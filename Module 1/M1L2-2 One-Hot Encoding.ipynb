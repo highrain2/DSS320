{
 "cells": [
  {
   "cell_type": "markdown",
   "id": "18f50ca4",
   "metadata": {},
   "source": [
    "# Dimensionality Expansion\n",
    "## One Hot Encoding\n",
    "In this lesson we will practice converting categorical data into numerical so that it can be used by the scikit-learn package.  Other machine learning packages also have this limitation in that they can only ingest numerical data.  One-Hot encoding adds additional columns, one for each category in the original column - hence dimensionality expansion."
   ]
  },
  {
   "cell_type": "code",
   "execution_count": 1,
   "id": "fb3f3bdc",
   "metadata": {},
   "outputs": [],
   "source": [
    "import pandas as pd\n",
    "import numpy as np\n",
    "import matplotlib.pyplot as plt\n",
    "import seaborn as sns\n",
    "from sklearn import datasets\n",
    "\n",
    "# Workshop Functions\n",
    "import sys\n",
    "sys.path.append('..')\n",
    "from WKDSS320_functions import * "
   ]
  },
  {
   "cell_type": "code",
   "execution_count": 2,
   "id": "435abb85",
   "metadata": {},
   "outputs": [
    {
     "data": {
      "text/html": [
       "<div>\n",
       "<style scoped>\n",
       "    .dataframe tbody tr th:only-of-type {\n",
       "        vertical-align: middle;\n",
       "    }\n",
       "\n",
       "    .dataframe tbody tr th {\n",
       "        vertical-align: top;\n",
       "    }\n",
       "\n",
       "    .dataframe thead th {\n",
       "        text-align: right;\n",
       "    }\n",
       "</style>\n",
       "<table border=\"1\" class=\"dataframe\">\n",
       "  <thead>\n",
       "    <tr style=\"text-align: right;\">\n",
       "      <th></th>\n",
       "      <th>PassengerId</th>\n",
       "      <th>Survived</th>\n",
       "      <th>Pclass</th>\n",
       "      <th>Sex</th>\n",
       "      <th>Embarked</th>\n",
       "      <th>Salutation</th>\n",
       "    </tr>\n",
       "  </thead>\n",
       "  <tbody>\n",
       "    <tr>\n",
       "      <th>0</th>\n",
       "      <td>1</td>\n",
       "      <td>0</td>\n",
       "      <td>3</td>\n",
       "      <td>male</td>\n",
       "      <td>S</td>\n",
       "      <td>Mr.</td>\n",
       "    </tr>\n",
       "    <tr>\n",
       "      <th>1</th>\n",
       "      <td>2</td>\n",
       "      <td>1</td>\n",
       "      <td>1</td>\n",
       "      <td>female</td>\n",
       "      <td>C</td>\n",
       "      <td>Mrs.</td>\n",
       "    </tr>\n",
       "    <tr>\n",
       "      <th>2</th>\n",
       "      <td>3</td>\n",
       "      <td>1</td>\n",
       "      <td>3</td>\n",
       "      <td>female</td>\n",
       "      <td>S</td>\n",
       "      <td>Miss.</td>\n",
       "    </tr>\n",
       "    <tr>\n",
       "      <th>3</th>\n",
       "      <td>4</td>\n",
       "      <td>1</td>\n",
       "      <td>1</td>\n",
       "      <td>female</td>\n",
       "      <td>S</td>\n",
       "      <td>Mrs.</td>\n",
       "    </tr>\n",
       "    <tr>\n",
       "      <th>4</th>\n",
       "      <td>5</td>\n",
       "      <td>0</td>\n",
       "      <td>3</td>\n",
       "      <td>male</td>\n",
       "      <td>S</td>\n",
       "      <td>Mr.</td>\n",
       "    </tr>\n",
       "  </tbody>\n",
       "</table>\n",
       "</div>"
      ],
      "text/plain": [
       "   PassengerId  Survived  Pclass     Sex Embarked Salutation\n",
       "0            1         0       3    male        S        Mr.\n",
       "1            2         1       1  female        C       Mrs.\n",
       "2            3         1       3  female        S      Miss.\n",
       "3            4         1       1  female        S       Mrs.\n",
       "4            5         0       3    male        S        Mr."
      ]
     },
     "execution_count": 2,
     "metadata": {},
     "output_type": "execute_result"
    }
   ],
   "source": [
    "# Read in the data\n",
    "df = pd.read_csv(\"titanic_train_cleaned.csv\")\n",
    "df.drop(columns=['Name','Age','SibSp','Parch','Ticket','Fare'],inplace=True) #dropping columns we won't need for this exercise\n",
    "df.head()"
   ]
  },
  {
   "cell_type": "markdown",
   "id": "64c67c36",
   "metadata": {},
   "source": [
    "### Need for additional data processing\n",
    "The scikit-learn machine learning package can't take **categorical** data as input.  For the 'Sex' column, we can replace 'male' as 0 and 'female' as 1. "
   ]
  },
  {
   "cell_type": "code",
   "execution_count": 3,
   "id": "55859473",
   "metadata": {},
   "outputs": [
    {
     "data": {
      "text/html": [
       "<div>\n",
       "<style scoped>\n",
       "    .dataframe tbody tr th:only-of-type {\n",
       "        vertical-align: middle;\n",
       "    }\n",
       "\n",
       "    .dataframe tbody tr th {\n",
       "        vertical-align: top;\n",
       "    }\n",
       "\n",
       "    .dataframe thead th {\n",
       "        text-align: right;\n",
       "    }\n",
       "</style>\n",
       "<table border=\"1\" class=\"dataframe\">\n",
       "  <thead>\n",
       "    <tr style=\"text-align: right;\">\n",
       "      <th></th>\n",
       "      <th>PassengerId</th>\n",
       "      <th>Survived</th>\n",
       "      <th>Pclass</th>\n",
       "      <th>Sex</th>\n",
       "      <th>Embarked</th>\n",
       "      <th>Salutation</th>\n",
       "    </tr>\n",
       "  </thead>\n",
       "  <tbody>\n",
       "    <tr>\n",
       "      <th>0</th>\n",
       "      <td>1</td>\n",
       "      <td>0</td>\n",
       "      <td>3</td>\n",
       "      <td>0</td>\n",
       "      <td>S</td>\n",
       "      <td>Mr.</td>\n",
       "    </tr>\n",
       "    <tr>\n",
       "      <th>1</th>\n",
       "      <td>2</td>\n",
       "      <td>1</td>\n",
       "      <td>1</td>\n",
       "      <td>1</td>\n",
       "      <td>C</td>\n",
       "      <td>Mrs.</td>\n",
       "    </tr>\n",
       "  </tbody>\n",
       "</table>\n",
       "</div>"
      ],
      "text/plain": [
       "   PassengerId  Survived  Pclass  Sex Embarked Salutation\n",
       "0            1         0       3    0        S        Mr.\n",
       "1            2         1       1    1        C       Mrs."
      ]
     },
     "execution_count": 3,
     "metadata": {},
     "output_type": "execute_result"
    }
   ],
   "source": [
    "# convert the categorical variable 'Sex' to numerical 0 and 1 using mapping\n",
    "mapping = {'male':0, 'female':1}\n",
    "df.loc[:,'Sex'] = df.loc[:,'Sex'].map(mapping)\n",
    "df.head(2)"
   ]
  },
  {
   "cell_type": "markdown",
   "id": "e258ed8e",
   "metadata": {},
   "source": [
    "For 'Embarked' there are 3 possible values: S, C, and Q.  Rather than assign them values of 0,1,2 respectively, let's use one-hot encoding to create 3 new columns for each value.  In the 'S' column, the value will be a 1 if the original 'Embarked' column has a 'S' as the value for that passenger, and a '0' otherwise.  Similarly for C and Q columns.  \n",
    "\n",
    "Let's also do the same with the Salutation.   "
   ]
  },
  {
   "cell_type": "code",
   "execution_count": 4,
   "id": "9880e2b6",
   "metadata": {},
   "outputs": [
    {
     "name": "stdout",
     "output_type": "stream",
     "text": [
      "   PassengerId  Survived  Pclass  Sex Embarked Salutation  Embarked_C  \\\n",
      "0            1         0       3    0        S        Mr.           0   \n",
      "1            2         1       1    1        C       Mrs.           1   \n",
      "2            3         1       3    1        S      Miss.           0   \n",
      "3            4         1       1    1        S       Mrs.           0   \n",
      "4            5         0       3    0        S        Mr.           0   \n",
      "\n",
      "   Embarked_Q  Embarked_S  Salutation_Capt.  ...  Salutation_Major.  \\\n",
      "0           0           1                 0  ...                  0   \n",
      "1           0           0                 0  ...                  0   \n",
      "2           0           1                 0  ...                  0   \n",
      "3           0           1                 0  ...                  0   \n",
      "4           0           1                 0  ...                  0   \n",
      "\n",
      "   Salutation_Master.  Salutation_Miss.  Salutation_Mlle.  Salutation_Mme.  \\\n",
      "0                   0                 0                 0                0   \n",
      "1                   0                 0                 0                0   \n",
      "2                   0                 1                 0                0   \n",
      "3                   0                 0                 0                0   \n",
      "4                   0                 0                 0                0   \n",
      "\n",
      "   Salutation_Mr.  Salutation_Mrs.  Salutation_Ms.  Salutation_Rev.  \\\n",
      "0               1                0               0                0   \n",
      "1               0                1               0                0   \n",
      "2               0                0               0                0   \n",
      "3               0                1               0                0   \n",
      "4               1                0               0                0   \n",
      "\n",
      "   Salutation_Sir.  \n",
      "0                0  \n",
      "1                0  \n",
      "2                0  \n",
      "3                0  \n",
      "4                0  \n",
      "\n",
      "[5 rows x 26 columns]\n"
     ]
    }
   ],
   "source": [
    "dfTemp = pd.get_dummies(df.loc[:,['Embarked','Salutation']])\n",
    "df = pd.concat([df,dfTemp], axis=1)\n",
    "df.head()"
   ]
  },
  {
   "cell_type": "markdown",
   "id": "4ce4fc46",
   "metadata": {},
   "source": [
    "Now remove the 2 categorical columns to make the data fully numeric.  It is now ready to be processed by a machine learning algorithm in the scikit-learn package"
   ]
  },
  {
   "cell_type": "code",
   "execution_count": 5,
   "id": "f4b5b3a2",
   "metadata": {},
   "outputs": [
    {
     "name": "stdout",
     "output_type": "stream",
     "text": [
      "   PassengerId  Survived  Pclass  Sex  Embarked_C  Embarked_Q  Embarked_S  \\\n",
      "0            1         0       3    0           0           0           1   \n",
      "1            2         1       1    1           1           0           0   \n",
      "2            3         1       3    1           0           0           1   \n",
      "3            4         1       1    1           0           0           1   \n",
      "4            5         0       3    0           0           0           1   \n",
      "\n",
      "   Salutation_Capt.  Salutation_Col.  Salutation_Countess.  ...  \\\n",
      "0                 0                0                     0  ...   \n",
      "1                 0                0                     0  ...   \n",
      "2                 0                0                     0  ...   \n",
      "3                 0                0                     0  ...   \n",
      "4                 0                0                     0  ...   \n",
      "\n",
      "   Salutation_Major.  Salutation_Master.  Salutation_Miss.  Salutation_Mlle.  \\\n",
      "0                  0                   0                 0                 0   \n",
      "1                  0                   0                 0                 0   \n",
      "2                  0                   0                 1                 0   \n",
      "3                  0                   0                 0                 0   \n",
      "4                  0                   0                 0                 0   \n",
      "\n",
      "   Salutation_Mme.  Salutation_Mr.  Salutation_Mrs.  Salutation_Ms.  \\\n",
      "0                0               1                0               0   \n",
      "1                0               0                1               0   \n",
      "2                0               0                0               0   \n",
      "3                0               0                1               0   \n",
      "4                0               1                0               0   \n",
      "\n",
      "   Salutation_Rev.  Salutation_Sir.  \n",
      "0                0                0  \n",
      "1                0                0  \n",
      "2                0                0  \n",
      "3                0                0  \n",
      "4                0                0  \n",
      "\n",
      "[5 rows x 24 columns]\n"
     ]
    }
   ],
   "source": [
    "df.drop(columns=['Salutation','Embarked'],inplace=True)\n",
    "df.head()"
   ]
  }
 ],
 "metadata": {
  "kernelspec": {
   "display_name": "Python 3 (ipykernel)",
   "language": "python",
   "name": "python3"
  },
  "language_info": {
   "codemirror_mode": {
    "name": "ipython",
    "version": 3
   },
   "file_extension": ".py",
   "mimetype": "text/x-python",
   "name": "python",
   "nbconvert_exporter": "python",
   "pygments_lexer": "ipython3",
   "version": "3.9.13"
  }
 },
 "nbformat": 4,
 "nbformat_minor": 5
}
