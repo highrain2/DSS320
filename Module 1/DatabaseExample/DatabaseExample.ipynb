{
 "cells": [
  {
   "cell_type": "markdown",
   "metadata": {},
   "source": [
    "# Database Example\n",
    "In this notebook, we practice how to combine multiple tables using Pandas.  Then we do Exploratory Data Analysis on the combined dataframe to run complex queries.  \n",
    "\n",
    "The data in this example is from a database example where there are 4 tables from a veterinary clinic.  There are tables with information about the Animals, Owners, Billing and Visits.   \n",
    "We will combine the 4 tables as shown in the following diagram:\n",
    "\n",
    "<img src=\"DatabaseSchema.png\" alt=\"Alternative text\" height=\"200px\" align=\"center\"/>"
   ]
  },
  {
   "cell_type": "code",
   "execution_count": 2,
   "metadata": {},
   "outputs": [],
   "source": [
    "# Import libraries:\n",
    "import numpy as np\n",
    "import pandas as pd\n",
    "import matplotlib.pyplot as plt\n",
    "import seaborn as sns"
   ]
  },
  {
   "cell_type": "markdown",
   "metadata": {},
   "source": [
    "Read in Animal, Billing, Owner, Visit Excel files."
   ]
  },
  {
   "cell_type": "code",
   "execution_count": 3,
   "metadata": {},
   "outputs": [],
   "source": [
    "Animal = pd.read_excel('Animal.xlsx')\n",
    "Billing = pd.read_excel('Billing.xlsx')\n",
    "Owner = pd.read_excel('Owner.xlsx')\n",
    "Visit = pd.read_excel('Visit.xlsx')"
   ]
  },
  {
   "cell_type": "markdown",
   "metadata": {},
   "source": [
    "Examining these files, we see that each has a *primary key*, which is the first column, that acts as an index. They also have a *foreign key* which we can use to synchronize one table with another.  The following column titles are the keys for the different tables:\n",
    "* AnimalID\n",
    "* OwnerID\n",
    "* VisitID"
   ]
  },
  {
   "cell_type": "code",
   "execution_count": 4,
   "metadata": {},
   "outputs": [
    {
     "data": {
      "text/html": [
       "<div>\n",
       "<style scoped>\n",
       "    .dataframe tbody tr th:only-of-type {\n",
       "        vertical-align: middle;\n",
       "    }\n",
       "\n",
       "    .dataframe tbody tr th {\n",
       "        vertical-align: top;\n",
       "    }\n",
       "\n",
       "    .dataframe thead th {\n",
       "        text-align: right;\n",
       "    }\n",
       "</style>\n",
       "<table border=\"1\" class=\"dataframe\">\n",
       "  <thead>\n",
       "    <tr style=\"text-align: right;\">\n",
       "      <th></th>\n",
       "      <th>AnimalID</th>\n",
       "      <th>OwnerID</th>\n",
       "      <th>AnimalName</th>\n",
       "      <th>AnimalBirthDate</th>\n",
       "      <th>AnimalType</th>\n",
       "      <th>AnimalBreed</th>\n",
       "    </tr>\n",
       "  </thead>\n",
       "  <tbody>\n",
       "    <tr>\n",
       "      <th>0</th>\n",
       "      <td>12278</td>\n",
       "      <td>2412</td>\n",
       "      <td>Bailey</td>\n",
       "      <td>2013-05-09</td>\n",
       "      <td>Dog</td>\n",
       "      <td>Beagle</td>\n",
       "    </tr>\n",
       "    <tr>\n",
       "      <th>1</th>\n",
       "      <td>12282</td>\n",
       "      <td>2310</td>\n",
       "      <td>Whiskers</td>\n",
       "      <td>2014-04-10</td>\n",
       "      <td>Cat</td>\n",
       "      <td>Burmese</td>\n",
       "    </tr>\n",
       "    <tr>\n",
       "      <th>2</th>\n",
       "      <td>12286</td>\n",
       "      <td>2318</td>\n",
       "      <td>Lady</td>\n",
       "      <td>2015-08-12</td>\n",
       "      <td>Dog</td>\n",
       "      <td>Border collie</td>\n",
       "    </tr>\n",
       "    <tr>\n",
       "      <th>3</th>\n",
       "      <td>12290</td>\n",
       "      <td>2325</td>\n",
       "      <td>Rustle</td>\n",
       "      <td>2015-09-02</td>\n",
       "      <td>Dog</td>\n",
       "      <td>Australian shepherd</td>\n",
       "    </tr>\n",
       "    <tr>\n",
       "      <th>4</th>\n",
       "      <td>12294</td>\n",
       "      <td>2335</td>\n",
       "      <td>Bushy</td>\n",
       "      <td>2015-03-02</td>\n",
       "      <td>Cat</td>\n",
       "      <td>Himalayan</td>\n",
       "    </tr>\n",
       "  </tbody>\n",
       "</table>\n",
       "</div>"
      ],
      "text/plain": [
       "   AnimalID  OwnerID AnimalName AnimalBirthDate AnimalType  \\\n",
       "0     12278     2412     Bailey      2013-05-09        Dog   \n",
       "1     12282     2310   Whiskers      2014-04-10        Cat   \n",
       "2     12286     2318       Lady      2015-08-12        Dog   \n",
       "3     12290     2325     Rustle      2015-09-02        Dog   \n",
       "4     12294     2335      Bushy      2015-03-02        Cat   \n",
       "\n",
       "           AnimalBreed  \n",
       "0               Beagle  \n",
       "1              Burmese  \n",
       "2        Border collie  \n",
       "3  Australian shepherd  \n",
       "4            Himalayan  "
      ]
     },
     "execution_count": 4,
     "metadata": {},
     "output_type": "execute_result"
    }
   ],
   "source": [
    "Animal.head()"
   ]
  },
  {
   "cell_type": "code",
   "execution_count": 5,
   "metadata": {},
   "outputs": [
    {
     "data": {
      "text/html": [
       "<div>\n",
       "<style scoped>\n",
       "    .dataframe tbody tr th:only-of-type {\n",
       "        vertical-align: middle;\n",
       "    }\n",
       "\n",
       "    .dataframe tbody tr th {\n",
       "        vertical-align: top;\n",
       "    }\n",
       "\n",
       "    .dataframe thead th {\n",
       "        text-align: right;\n",
       "    }\n",
       "</style>\n",
       "<table border=\"1\" class=\"dataframe\">\n",
       "  <thead>\n",
       "    <tr style=\"text-align: right;\">\n",
       "      <th></th>\n",
       "      <th>InvoiceNum</th>\n",
       "      <th>VisitID</th>\n",
       "      <th>InvoiceDate</th>\n",
       "      <th>InvoiceAmt</th>\n",
       "      <th>InvoiceItem</th>\n",
       "      <th>InvoicePaid</th>\n",
       "    </tr>\n",
       "  </thead>\n",
       "  <tbody>\n",
       "    <tr>\n",
       "      <th>0</th>\n",
       "      <td>42098</td>\n",
       "      <td>1002</td>\n",
       "      <td>2016-11-09</td>\n",
       "      <td>50</td>\n",
       "      <td>Lab Work</td>\n",
       "      <td>True</td>\n",
       "    </tr>\n",
       "    <tr>\n",
       "      <th>1</th>\n",
       "      <td>42099</td>\n",
       "      <td>1002</td>\n",
       "      <td>2016-11-09</td>\n",
       "      <td>75</td>\n",
       "      <td>Updated shots</td>\n",
       "      <td>False</td>\n",
       "    </tr>\n",
       "    <tr>\n",
       "      <th>2</th>\n",
       "      <td>42100</td>\n",
       "      <td>1002</td>\n",
       "      <td>2016-11-09</td>\n",
       "      <td>45</td>\n",
       "      <td>Flea &amp; tick medications</td>\n",
       "      <td>False</td>\n",
       "    </tr>\n",
       "    <tr>\n",
       "      <th>3</th>\n",
       "      <td>42110</td>\n",
       "      <td>1006</td>\n",
       "      <td>2016-11-14</td>\n",
       "      <td>35</td>\n",
       "      <td>Heartworm medication</td>\n",
       "      <td>True</td>\n",
       "    </tr>\n",
       "    <tr>\n",
       "      <th>4</th>\n",
       "      <td>42111</td>\n",
       "      <td>1006</td>\n",
       "      <td>2016-11-14</td>\n",
       "      <td>65</td>\n",
       "      <td>Updated shots</td>\n",
       "      <td>True</td>\n",
       "    </tr>\n",
       "  </tbody>\n",
       "</table>\n",
       "</div>"
      ],
      "text/plain": [
       "   InvoiceNum  VisitID InvoiceDate  InvoiceAmt              InvoiceItem  \\\n",
       "0       42098     1002  2016-11-09          50                 Lab Work   \n",
       "1       42099     1002  2016-11-09          75            Updated shots   \n",
       "2       42100     1002  2016-11-09          45  Flea & tick medications   \n",
       "3       42110     1006  2016-11-14          35     Heartworm medication   \n",
       "4       42111     1006  2016-11-14          65            Updated shots   \n",
       "\n",
       "   InvoicePaid  \n",
       "0         True  \n",
       "1        False  \n",
       "2        False  \n",
       "3         True  \n",
       "4         True  "
      ]
     },
     "execution_count": 5,
     "metadata": {},
     "output_type": "execute_result"
    }
   ],
   "source": [
    "Billing.head()"
   ]
  },
  {
   "cell_type": "code",
   "execution_count": 6,
   "metadata": {},
   "outputs": [
    {
     "data": {
      "text/html": [
       "<div>\n",
       "<style scoped>\n",
       "    .dataframe tbody tr th:only-of-type {\n",
       "        vertical-align: middle;\n",
       "    }\n",
       "\n",
       "    .dataframe tbody tr th {\n",
       "        vertical-align: top;\n",
       "    }\n",
       "\n",
       "    .dataframe thead th {\n",
       "        text-align: right;\n",
       "    }\n",
       "</style>\n",
       "<table border=\"1\" class=\"dataframe\">\n",
       "  <thead>\n",
       "    <tr style=\"text-align: right;\">\n",
       "      <th></th>\n",
       "      <th>OwnerID</th>\n",
       "      <th>FirstName</th>\n",
       "      <th>LastName</th>\n",
       "      <th>Phone</th>\n",
       "      <th>Address</th>\n",
       "      <th>City</th>\n",
       "      <th>State</th>\n",
       "      <th>ZipCode</th>\n",
       "      <th>Email</th>\n",
       "    </tr>\n",
       "  </thead>\n",
       "  <tbody>\n",
       "    <tr>\n",
       "      <th>0</th>\n",
       "      <td>2310</td>\n",
       "      <td>Bob</td>\n",
       "      <td>Jones</td>\n",
       "      <td>307-824-1245</td>\n",
       "      <td>12 Elm Ln</td>\n",
       "      <td>Cody</td>\n",
       "      <td>WY</td>\n",
       "      <td>82414</td>\n",
       "      <td>student@example.com</td>\n",
       "    </tr>\n",
       "    <tr>\n",
       "      <th>1</th>\n",
       "      <td>2314</td>\n",
       "      <td>Sally</td>\n",
       "      <td>Cruz</td>\n",
       "      <td>307-406-4321</td>\n",
       "      <td>199 18th Ave</td>\n",
       "      <td>Ralston</td>\n",
       "      <td>WY</td>\n",
       "      <td>82240</td>\n",
       "      <td>scruz@example.com</td>\n",
       "    </tr>\n",
       "    <tr>\n",
       "      <th>2</th>\n",
       "      <td>2318</td>\n",
       "      <td>Sandra</td>\n",
       "      <td>Pincher</td>\n",
       "      <td>307-982-8401</td>\n",
       "      <td>12 Rock Ln</td>\n",
       "      <td>Cody</td>\n",
       "      <td>WY</td>\n",
       "      <td>82414</td>\n",
       "      <td>sp231@example.com</td>\n",
       "    </tr>\n",
       "    <tr>\n",
       "      <th>3</th>\n",
       "      <td>2322</td>\n",
       "      <td>Billy</td>\n",
       "      <td>Ruffton</td>\n",
       "      <td>307-843-9810</td>\n",
       "      <td>21 Simple Cir</td>\n",
       "      <td>Garland</td>\n",
       "      <td>WY</td>\n",
       "      <td>82435</td>\n",
       "      <td>br299@example.com</td>\n",
       "    </tr>\n",
       "    <tr>\n",
       "      <th>4</th>\n",
       "      <td>2325</td>\n",
       "      <td>Barbara</td>\n",
       "      <td>Fishman</td>\n",
       "      <td>307-987-0092</td>\n",
       "      <td>2 Lakeview Rd</td>\n",
       "      <td>Cody</td>\n",
       "      <td>WY</td>\n",
       "      <td>82414</td>\n",
       "      <td>fishy@example.com</td>\n",
       "    </tr>\n",
       "  </tbody>\n",
       "</table>\n",
       "</div>"
      ],
      "text/plain": [
       "   OwnerID FirstName LastName         Phone        Address     City State  \\\n",
       "0     2310       Bob    Jones  307-824-1245      12 Elm Ln     Cody    WY   \n",
       "1     2314     Sally     Cruz  307-406-4321   199 18th Ave  Ralston    WY   \n",
       "2     2318    Sandra  Pincher  307-982-8401     12 Rock Ln     Cody    WY   \n",
       "3     2322     Billy  Ruffton  307-843-9810  21 Simple Cir  Garland    WY   \n",
       "4     2325   Barbara  Fishman  307-987-0092  2 Lakeview Rd     Cody    WY   \n",
       "\n",
       "   ZipCode                Email  \n",
       "0    82414  student@example.com  \n",
       "1    82240    scruz@example.com  \n",
       "2    82414    sp231@example.com  \n",
       "3    82435    br299@example.com  \n",
       "4    82414    fishy@example.com  "
      ]
     },
     "execution_count": 6,
     "metadata": {},
     "output_type": "execute_result"
    }
   ],
   "source": [
    "Owner.head()"
   ]
  },
  {
   "cell_type": "code",
   "execution_count": 7,
   "metadata": {},
   "outputs": [
    {
     "data": {
      "text/html": [
       "<div>\n",
       "<style scoped>\n",
       "    .dataframe tbody tr th:only-of-type {\n",
       "        vertical-align: middle;\n",
       "    }\n",
       "\n",
       "    .dataframe tbody tr th {\n",
       "        vertical-align: top;\n",
       "    }\n",
       "\n",
       "    .dataframe thead th {\n",
       "        text-align: right;\n",
       "    }\n",
       "</style>\n",
       "<table border=\"1\" class=\"dataframe\">\n",
       "  <thead>\n",
       "    <tr style=\"text-align: right;\">\n",
       "      <th></th>\n",
       "      <th>VisitID</th>\n",
       "      <th>AnimalID</th>\n",
       "      <th>VisitDate</th>\n",
       "      <th>Reason</th>\n",
       "      <th>Offsite</th>\n",
       "    </tr>\n",
       "  </thead>\n",
       "  <tbody>\n",
       "    <tr>\n",
       "      <th>0</th>\n",
       "      <td>1002</td>\n",
       "      <td>12282</td>\n",
       "      <td>2016-11-08</td>\n",
       "      <td>Vaccinations</td>\n",
       "      <td>False</td>\n",
       "    </tr>\n",
       "    <tr>\n",
       "      <th>1</th>\n",
       "      <td>1006</td>\n",
       "      <td>12290</td>\n",
       "      <td>2016-11-11</td>\n",
       "      <td>Vaccinations</td>\n",
       "      <td>False</td>\n",
       "    </tr>\n",
       "    <tr>\n",
       "      <th>2</th>\n",
       "      <td>1009</td>\n",
       "      <td>12308</td>\n",
       "      <td>2016-11-15</td>\n",
       "      <td>Nail clipping and grooming</td>\n",
       "      <td>False</td>\n",
       "    </tr>\n",
       "    <tr>\n",
       "      <th>3</th>\n",
       "      <td>1012</td>\n",
       "      <td>12335</td>\n",
       "      <td>2016-11-18</td>\n",
       "      <td>Vaccinations</td>\n",
       "      <td>True</td>\n",
       "    </tr>\n",
       "    <tr>\n",
       "      <th>4</th>\n",
       "      <td>1013</td>\n",
       "      <td>12337</td>\n",
       "      <td>2016-11-18</td>\n",
       "      <td>Vaccinations</td>\n",
       "      <td>True</td>\n",
       "    </tr>\n",
       "  </tbody>\n",
       "</table>\n",
       "</div>"
      ],
      "text/plain": [
       "   VisitID  AnimalID  VisitDate                      Reason  Offsite\n",
       "0     1002     12282 2016-11-08                Vaccinations    False\n",
       "1     1006     12290 2016-11-11                Vaccinations    False\n",
       "2     1009     12308 2016-11-15  Nail clipping and grooming    False\n",
       "3     1012     12335 2016-11-18                Vaccinations     True\n",
       "4     1013     12337 2016-11-18                Vaccinations     True"
      ]
     },
     "execution_count": 7,
     "metadata": {},
     "output_type": "execute_result"
    }
   ],
   "source": [
    "Visit.head()"
   ]
  },
  {
   "cell_type": "markdown",
   "metadata": {},
   "source": [
    "Combine the different tables using the different keys.  We're taking a sequential approach."
   ]
  },
  {
   "cell_type": "code",
   "execution_count": 8,
   "metadata": {},
   "outputs": [
    {
     "data": {
      "text/plain": [
       "Index(['AnimalID', 'OwnerID', 'AnimalName', 'AnimalBirthDate', 'AnimalType',\n",
       "       'AnimalBreed', 'FirstName', 'LastName', 'Phone', 'Address', 'City',\n",
       "       'State', 'ZipCode', 'Email', 'VisitID', 'VisitDate', 'Reason',\n",
       "       'Offsite', 'InvoiceNum', 'InvoiceDate', 'InvoiceAmt', 'InvoiceItem',\n",
       "       'InvoicePaid'],\n",
       "      dtype='object')"
      ]
     },
     "execution_count": 8,
     "metadata": {},
     "output_type": "execute_result"
    }
   ],
   "source": [
    "CombinedTable = Animal.merge(Owner, how='inner', on='OwnerID')\n",
    "CombinedTable = CombinedTable.merge(Visit, how='inner', on='AnimalID')\n",
    "CombinedTable = CombinedTable.merge(Billing, how='inner', on='VisitID')\n",
    "CombinedTable.columns\n"
   ]
  },
  {
   "cell_type": "markdown",
   "metadata": {},
   "source": [
    "Let's drop certain columns that are unique and don't have statistical value"
   ]
  },
  {
   "cell_type": "code",
   "execution_count": 9,
   "metadata": {},
   "outputs": [
    {
     "data": {
      "text/html": [
       "<div>\n",
       "<style scoped>\n",
       "    .dataframe tbody tr th:only-of-type {\n",
       "        vertical-align: middle;\n",
       "    }\n",
       "\n",
       "    .dataframe tbody tr th {\n",
       "        vertical-align: top;\n",
       "    }\n",
       "\n",
       "    .dataframe thead th {\n",
       "        text-align: right;\n",
       "    }\n",
       "</style>\n",
       "<table border=\"1\" class=\"dataframe\">\n",
       "  <thead>\n",
       "    <tr style=\"text-align: right;\">\n",
       "      <th></th>\n",
       "      <th>AnimalID</th>\n",
       "      <th>OwnerID</th>\n",
       "      <th>AnimalBirthDate</th>\n",
       "      <th>AnimalType</th>\n",
       "      <th>AnimalBreed</th>\n",
       "      <th>ZipCode</th>\n",
       "      <th>VisitID</th>\n",
       "      <th>VisitDate</th>\n",
       "      <th>Offsite</th>\n",
       "      <th>InvoiceDate</th>\n",
       "      <th>InvoiceAmt</th>\n",
       "      <th>InvoiceItem</th>\n",
       "      <th>InvoicePaid</th>\n",
       "    </tr>\n",
       "  </thead>\n",
       "  <tbody>\n",
       "    <tr>\n",
       "      <th>0</th>\n",
       "      <td>12278</td>\n",
       "      <td>2412</td>\n",
       "      <td>2013-05-09</td>\n",
       "      <td>Dog</td>\n",
       "      <td>Beagle</td>\n",
       "      <td>82414</td>\n",
       "      <td>1044</td>\n",
       "      <td>2017-01-20</td>\n",
       "      <td>False</td>\n",
       "      <td>2016-12-05</td>\n",
       "      <td>75</td>\n",
       "      <td>Updated shots</td>\n",
       "      <td>True</td>\n",
       "    </tr>\n",
       "    <tr>\n",
       "      <th>1</th>\n",
       "      <td>12278</td>\n",
       "      <td>2412</td>\n",
       "      <td>2013-05-09</td>\n",
       "      <td>Dog</td>\n",
       "      <td>Beagle</td>\n",
       "      <td>82414</td>\n",
       "      <td>1044</td>\n",
       "      <td>2017-01-20</td>\n",
       "      <td>False</td>\n",
       "      <td>2016-12-05</td>\n",
       "      <td>50</td>\n",
       "      <td>Lab work</td>\n",
       "      <td>True</td>\n",
       "    </tr>\n",
       "    <tr>\n",
       "      <th>2</th>\n",
       "      <td>12278</td>\n",
       "      <td>2412</td>\n",
       "      <td>2013-05-09</td>\n",
       "      <td>Dog</td>\n",
       "      <td>Beagle</td>\n",
       "      <td>82414</td>\n",
       "      <td>1044</td>\n",
       "      <td>2017-01-20</td>\n",
       "      <td>False</td>\n",
       "      <td>2016-12-05</td>\n",
       "      <td>45</td>\n",
       "      <td>Flea &amp; tick medications</td>\n",
       "      <td>True</td>\n",
       "    </tr>\n",
       "    <tr>\n",
       "      <th>3</th>\n",
       "      <td>12278</td>\n",
       "      <td>2412</td>\n",
       "      <td>2013-05-09</td>\n",
       "      <td>Dog</td>\n",
       "      <td>Beagle</td>\n",
       "      <td>82414</td>\n",
       "      <td>1044</td>\n",
       "      <td>2017-01-20</td>\n",
       "      <td>False</td>\n",
       "      <td>2016-12-05</td>\n",
       "      <td>35</td>\n",
       "      <td>Heartworm medication</td>\n",
       "      <td>True</td>\n",
       "    </tr>\n",
       "    <tr>\n",
       "      <th>4</th>\n",
       "      <td>12278</td>\n",
       "      <td>2412</td>\n",
       "      <td>2013-05-09</td>\n",
       "      <td>Dog</td>\n",
       "      <td>Beagle</td>\n",
       "      <td>82414</td>\n",
       "      <td>1169</td>\n",
       "      <td>2017-02-01</td>\n",
       "      <td>False</td>\n",
       "      <td>2017-01-23</td>\n",
       "      <td>100</td>\n",
       "      <td>Spaying</td>\n",
       "      <td>False</td>\n",
       "    </tr>\n",
       "  </tbody>\n",
       "</table>\n",
       "</div>"
      ],
      "text/plain": [
       "   AnimalID  OwnerID AnimalBirthDate AnimalType AnimalBreed  ZipCode  VisitID  \\\n",
       "0     12278     2412      2013-05-09        Dog      Beagle    82414     1044   \n",
       "1     12278     2412      2013-05-09        Dog      Beagle    82414     1044   \n",
       "2     12278     2412      2013-05-09        Dog      Beagle    82414     1044   \n",
       "3     12278     2412      2013-05-09        Dog      Beagle    82414     1044   \n",
       "4     12278     2412      2013-05-09        Dog      Beagle    82414     1169   \n",
       "\n",
       "   VisitDate  Offsite InvoiceDate  InvoiceAmt              InvoiceItem  \\\n",
       "0 2017-01-20    False  2016-12-05          75            Updated shots   \n",
       "1 2017-01-20    False  2016-12-05          50                 Lab work   \n",
       "2 2017-01-20    False  2016-12-05          45  Flea & tick medications   \n",
       "3 2017-01-20    False  2016-12-05          35     Heartworm medication   \n",
       "4 2017-02-01    False  2017-01-23         100                  Spaying   \n",
       "\n",
       "   InvoicePaid  \n",
       "0         True  \n",
       "1         True  \n",
       "2         True  \n",
       "3         True  \n",
       "4        False  "
      ]
     },
     "execution_count": 9,
     "metadata": {},
     "output_type": "execute_result"
    }
   ],
   "source": [
    "# Drop some columns for brevity.  Removing State becaause all records are from WV\n",
    "CombinedTable.drop(columns=['AnimalName','FirstName','LastName','Phone','Address','City','Email','Reason','InvoiceNum','State'],axis=1,inplace=True)\n",
    "CombinedTable.head()"
   ]
  },
  {
   "cell_type": "code",
   "execution_count": 10,
   "metadata": {},
   "outputs": [
    {
     "data": {
      "text/plain": [
       "AnimalID           56\n",
       "OwnerID            22\n",
       "AnimalBirthDate    55\n",
       "AnimalType          6\n",
       "AnimalBreed        28\n",
       "ZipCode             5\n",
       "VisitID            75\n",
       "VisitDate          36\n",
       "Offsite             2\n",
       "InvoiceDate        36\n",
       "InvoiceAmt         13\n",
       "InvoiceItem        41\n",
       "InvoicePaid         2\n",
       "dtype: int64"
      ]
     },
     "execution_count": 10,
     "metadata": {},
     "output_type": "execute_result"
    }
   ],
   "source": [
    "CombinedTable.nunique()"
   ]
  },
  {
   "cell_type": "markdown",
   "metadata": {},
   "source": [
    "Looking at the number of unique values in the columns above, we see that we can group under columns that have few unique values such as **AnimalType, ZipCode, Offsite, InvoicePaid\".  Let's try this out.  "
   ]
  },
  {
   "cell_type": "code",
   "execution_count": 11,
   "metadata": {},
   "outputs": [
    {
     "data": {
      "text/plain": [
       "(array([11., 19., 97.,  1., 65.,  0.,  6.,  0.,  2.,  0.,  0.,  0.,  0.,\n",
       "         0.,  0.,  0.,  2.,  0.,  0.,  1.]),\n",
       " array([ 15.,  28.,  41.,  54.,  67.,  80.,  93., 106., 119., 132., 145.,\n",
       "        158., 171., 184., 197., 210., 223., 236., 249., 262., 275.]),\n",
       " <BarContainer object of 20 artists>)"
      ]
     },
     "execution_count": 11,
     "metadata": {},
     "output_type": "execute_result"
    },
    {
     "data": {
      "image/png": "[encoded data removed]",
      "text/plain": [
       "<Figure size 640x480 with 1 Axes>"
      ]
     },
     "metadata": {},
     "output_type": "display_data"
    }
   ],
   "source": [
    "df = CombinedTable\n",
    "plt.hist(df.loc[:,'InvoiceAmt'], bins=20)\n",
    "# we see that most invoices are less than $100"
   ]
  },
  {
   "cell_type": "code",
   "execution_count": 13,
   "metadata": {},
   "outputs": [
    {
     "data": {
      "text/plain": [
       "<AxesSubplot:xlabel='InvoiceAmt', ylabel='Count'>"
      ]
     },
     "execution_count": 13,
     "metadata": {},
     "output_type": "execute_result"
    },
    {
     "data": {
      "image/png": "[encoded data removed]",
      "text/plain": [
       "<Figure size 640x480 with 1 Axes>"
      ]
     },
     "metadata": {},
     "output_type": "display_data"
    }
   ],
   "source": [
    "# Plot histograms of invoice amounts based on paid/not paid\n",
    "sns.histplot(data=CombinedTable,x='InvoiceAmt',hue='InvoicePaid')\n",
    "\n",
    "#plot shows not much separation between paid and not-paid invoices in terms of value.  \n",
    "# This means that we're not seeing that unpaid invoices are of a higher amount than paid invoices."
   ]
  },
  {
   "cell_type": "code",
   "execution_count": 14,
   "metadata": {},
   "outputs": [
    {
     "data": {
      "text/plain": [
       "<AxesSubplot:xlabel='InvoiceAmt', ylabel='Count'>"
      ]
     },
     "execution_count": 14,
     "metadata": {},
     "output_type": "execute_result"
    },
    {
     "data": {
      "image/png": "[encoded data removed]",
      "text/plain": [
       "<Figure size 640x480 with 1 Axes>"
      ]
     },
     "metadata": {},
     "output_type": "display_data"
    }
   ],
   "source": [
    "sns.histplot(data=CombinedTable,x='InvoiceAmt',hue='Offsite')\n",
    "# Histograms show that invoices for offsite visits are not significantly higher or lower than onsite visits"
   ]
  },
  {
   "cell_type": "markdown",
   "metadata": {},
   "source": [
    "### Complex Queries\n",
    "With the combined table, we can now run more complex queries"
   ]
  },
  {
   "cell_type": "code",
   "execution_count": 62,
   "metadata": {},
   "outputs": [
    {
     "data": {
      "text/plain": [
       "AnimalType\n",
       "Bird      78.571429\n",
       "Bison     61.538462\n",
       "Cat       67.608696\n",
       "Cattle    62.500000\n",
       "Dog       53.209877\n",
       "Sheep     60.000000\n",
       "Name: InvoiceAmt, dtype: float64"
      ]
     },
     "execution_count": 62,
     "metadata": {},
     "output_type": "execute_result"
    }
   ],
   "source": [
    "# Which animals cost the most\n",
    "df.groupby('AnimalType').mean().loc[:,'InvoiceAmt']"
   ]
  },
  {
   "cell_type": "code",
   "execution_count": 70,
   "metadata": {},
   "outputs": [
    {
     "data": {
      "text/plain": [
       "AnimalBirthDate\n",
       "2002    133.333333\n",
       "2009     45.000000\n",
       "2010     37.500000\n",
       "2012     50.000000\n",
       "2013     59.821429\n",
       "2014     56.759259\n",
       "2015     61.515152\n",
       "Name: InvoiceAmt, dtype: float64"
      ]
     },
     "execution_count": 70,
     "metadata": {},
     "output_type": "execute_result"
    }
   ],
   "source": [
    "# Are costs higher for older animals?\n",
    "# 1. Group by year\n",
    "# 2. Average cost\n",
    "df.groupby(df.loc[:,'AnimalBirthDate'].dt.year).mean().loc[:,'InvoiceAmt']"
   ]
  },
  {
   "cell_type": "code",
   "execution_count": 73,
   "metadata": {},
   "outputs": [
    {
     "data": {
      "text/html": [
       "<div>\n",
       "<style scoped>\n",
       "    .dataframe tbody tr th:only-of-type {\n",
       "        vertical-align: middle;\n",
       "    }\n",
       "\n",
       "    .dataframe tbody tr th {\n",
       "        vertical-align: top;\n",
       "    }\n",
       "\n",
       "    .dataframe thead th {\n",
       "        text-align: right;\n",
       "    }\n",
       "</style>\n",
       "<table border=\"1\" class=\"dataframe\">\n",
       "  <thead>\n",
       "    <tr style=\"text-align: right;\">\n",
       "      <th></th>\n",
       "      <th>AnimalID</th>\n",
       "      <th>OwnerID</th>\n",
       "      <th>AnimalBirthDate</th>\n",
       "      <th>AnimalType</th>\n",
       "      <th>AnimalBreed</th>\n",
       "      <th>State</th>\n",
       "      <th>ZipCode</th>\n",
       "      <th>VisitID</th>\n",
       "      <th>VisitDate</th>\n",
       "      <th>Offsite</th>\n",
       "      <th>InvoiceDate</th>\n",
       "      <th>InvoiceAmt</th>\n",
       "      <th>InvoiceItem</th>\n",
       "      <th>InvoicePaid</th>\n",
       "    </tr>\n",
       "  </thead>\n",
       "  <tbody>\n",
       "    <tr>\n",
       "      <th>85</th>\n",
       "      <td>12328</td>\n",
       "      <td>2354</td>\n",
       "      <td>2002-02-03</td>\n",
       "      <td>Bird</td>\n",
       "      <td>Lovebird</td>\n",
       "      <td>WY</td>\n",
       "      <td>82414</td>\n",
       "      <td>1020</td>\n",
       "      <td>2016-11-21</td>\n",
       "      <td>False</td>\n",
       "      <td>2016-11-22</td>\n",
       "      <td>275</td>\n",
       "      <td>Surgery for wing repair</td>\n",
       "      <td>True</td>\n",
       "    </tr>\n",
       "    <tr>\n",
       "      <th>86</th>\n",
       "      <td>12328</td>\n",
       "      <td>2354</td>\n",
       "      <td>2002-02-03</td>\n",
       "      <td>Bird</td>\n",
       "      <td>Lovebird</td>\n",
       "      <td>WY</td>\n",
       "      <td>82414</td>\n",
       "      <td>1020</td>\n",
       "      <td>2016-11-21</td>\n",
       "      <td>False</td>\n",
       "      <td>2016-11-22</td>\n",
       "      <td>50</td>\n",
       "      <td>Medications for recovery</td>\n",
       "      <td>True</td>\n",
       "    </tr>\n",
       "    <tr>\n",
       "      <th>87</th>\n",
       "      <td>12328</td>\n",
       "      <td>2354</td>\n",
       "      <td>2002-02-03</td>\n",
       "      <td>Bird</td>\n",
       "      <td>Lovebird</td>\n",
       "      <td>WY</td>\n",
       "      <td>82414</td>\n",
       "      <td>1020</td>\n",
       "      <td>2016-11-21</td>\n",
       "      <td>False</td>\n",
       "      <td>2016-11-22</td>\n",
       "      <td>75</td>\n",
       "      <td>Lab work</td>\n",
       "      <td>True</td>\n",
       "    </tr>\n",
       "  </tbody>\n",
       "</table>\n",
       "</div>"
      ],
      "text/plain": [
       "    AnimalID  OwnerID AnimalBirthDate AnimalType AnimalBreed State  ZipCode  \\\n",
       "85     12328     2354      2002-02-03       Bird    Lovebird    WY    82414   \n",
       "86     12328     2354      2002-02-03       Bird    Lovebird    WY    82414   \n",
       "87     12328     2354      2002-02-03       Bird    Lovebird    WY    82414   \n",
       "\n",
       "    VisitID  VisitDate  Offsite InvoiceDate  InvoiceAmt  \\\n",
       "85     1020 2016-11-21    False  2016-11-22         275   \n",
       "86     1020 2016-11-21    False  2016-11-22          50   \n",
       "87     1020 2016-11-21    False  2016-11-22          75   \n",
       "\n",
       "                 InvoiceItem  InvoicePaid  \n",
       "85   Surgery for wing repair         True  \n",
       "86  Medications for recovery         True  \n",
       "87                  Lab work         True  "
      ]
     },
     "execution_count": 73,
     "metadata": {},
     "output_type": "execute_result"
    }
   ],
   "source": [
    "# 2002 animal is the oldest.  Let's see what those records look like\n",
    "df.loc[df.loc[:,'AnimalBirthDate'].dt.year==2002,:]"
   ]
  },
  {
   "cell_type": "markdown",
   "metadata": {},
   "source": [
    "Same bird was seen 3 times, but one was very high for a broken wing, which drove up the average.  Also note that the 2 other invoice items appear related to that surgery as they are on the same day and same visitID.  "
   ]
  }
 ],
 "metadata": {
  "kernelspec": {
   "display_name": "Python 3 (ipykernel)",
   "language": "python",
   "name": "python3"
  },
  "language_info": {
   "codemirror_mode": {
    "name": "ipython",
    "version": 3
   },
   "file_extension": ".py",
   "mimetype": "text/x-python",
   "name": "python",
   "nbconvert_exporter": "python",
   "pygments_lexer": "ipython3",
   "version": "3.9.13"
  }
 },
 "nbformat": 4,
 "nbformat_minor": 2
}
