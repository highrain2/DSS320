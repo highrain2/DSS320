{
 "cells": [
  {
   "cell_type": "markdown",
   "id": "7b3e3c7a",
   "metadata": {},
   "source": [
    "# Dimensionality Reduction\n",
    "During the analysis phase, you might find that you have too many variables, or that you have a number of variables that aren't helpful in training a classifier.  In these circumstances, it is useful to determine which variables contain important information to identify classes or predict values, and separate them from the rest.  In the following examples, we will focus on classification problems, but these lessons apply to regression algorithms as well."
   ]
  },
  {
   "cell_type": "markdown",
   "id": "a77612c8",
   "metadata": {},
   "source": [
    "## Covariance Matrix\n",
    "As a starting point, it is useful to use either a covariance matrix or the *corr()* function to determine which variables are correlated.  As a reminder, the Pandas *corr* function will return a value from -1 to 1, with 0 indicating the 2 variables are not related at all, and -1 and 1 indicate they are perfectly correlated.  \n",
    "\n",
    "You can find additional information on the *corr()* function here: https://pandas.pydata.org/pandas-docs/stable/reference/api/pandas.DataFrame.corr.html"
   ]
  },
  {
   "cell_type": "code",
   "execution_count": 5,
   "id": "962027dc",
   "metadata": {},
   "outputs": [],
   "source": [
    "import pandas as pd\n",
    "import numpy as np\n",
    "import matplotlib.pyplot as plt\n",
    "import seaborn as sns\n",
    "from sklearn import datasets\n",
    "\n",
    "# Workshop Functions\n",
    "import sys\n",
    "sys.path.append('..')\n",
    "from WKDSS320_functions import * "
   ]
  },
  {
   "cell_type": "markdown",
   "id": "75431456",
   "metadata": {},
   "source": [
    "Next let's load a standard dataset called *Iris* which contains information about 3 types of Iris plants.  It is a standard training dataset.  More information on this dataset is here: https://en.wikipedia.org/wiki/Iris_flower_data_set"
   ]
  },
  {
   "cell_type": "code",
   "execution_count": 6,
   "id": "7cce11e8",
   "metadata": {
    "scrolled": true
   },
   "outputs": [
    {
     "data": {
      "text/html": [
       "<div>\n",
       "<style scoped>\n",
       "    .dataframe tbody tr th:only-of-type {\n",
       "        vertical-align: middle;\n",
       "    }\n",
       "\n",
       "    .dataframe tbody tr th {\n",
       "        vertical-align: top;\n",
       "    }\n",
       "\n",
       "    .dataframe thead th {\n",
       "        text-align: right;\n",
       "    }\n",
       "</style>\n",
       "<table border=\"1\" class=\"dataframe\">\n",
       "  <thead>\n",
       "    <tr style=\"text-align: right;\">\n",
       "      <th></th>\n",
       "      <th>sepal length (cm)</th>\n",
       "      <th>sepal width (cm)</th>\n",
       "      <th>petal length (cm)</th>\n",
       "      <th>petal width (cm)</th>\n",
       "    </tr>\n",
       "  </thead>\n",
       "  <tbody>\n",
       "    <tr>\n",
       "      <th>0</th>\n",
       "      <td>5.1</td>\n",
       "      <td>3.5</td>\n",
       "      <td>1.4</td>\n",
       "      <td>0.2</td>\n",
       "    </tr>\n",
       "    <tr>\n",
       "      <th>1</th>\n",
       "      <td>4.9</td>\n",
       "      <td>3.0</td>\n",
       "      <td>1.4</td>\n",
       "      <td>0.2</td>\n",
       "    </tr>\n",
       "    <tr>\n",
       "      <th>2</th>\n",
       "      <td>4.7</td>\n",
       "      <td>3.2</td>\n",
       "      <td>1.3</td>\n",
       "      <td>0.2</td>\n",
       "    </tr>\n",
       "    <tr>\n",
       "      <th>3</th>\n",
       "      <td>4.6</td>\n",
       "      <td>3.1</td>\n",
       "      <td>1.5</td>\n",
       "      <td>0.2</td>\n",
       "    </tr>\n",
       "    <tr>\n",
       "      <th>4</th>\n",
       "      <td>5.0</td>\n",
       "      <td>3.6</td>\n",
       "      <td>1.4</td>\n",
       "      <td>0.2</td>\n",
       "    </tr>\n",
       "  </tbody>\n",
       "</table>\n",
       "</div>"
      ],
      "text/plain": [
       "   sepal length (cm)  sepal width (cm)  petal length (cm)  petal width (cm)\n",
       "0                5.1               3.5                1.4               0.2\n",
       "1                4.9               3.0                1.4               0.2\n",
       "2                4.7               3.2                1.3               0.2\n",
       "3                4.6               3.1                1.5               0.2\n",
       "4                5.0               3.6                1.4               0.2"
      ]
     },
     "execution_count": 6,
     "metadata": {},
     "output_type": "execute_result"
    }
   ],
   "source": [
    "iris = datasets.load_iris()\n",
    "type(iris)\n",
    "X = iris.data  # we only take the first two features.\n",
    "y = iris.target\n",
    "colNames = iris.feature_names\n",
    "X = pd.DataFrame(X,columns=colNames)\n",
    "X.head()"
   ]
  },
  {
   "cell_type": "markdown",
   "id": "918484cc",
   "metadata": {},
   "source": [
    "### Baseline Performance\n",
    "Let's grow a Random Forest on this data and see what the baseline performance is"
   ]
  },
  {
   "cell_type": "code",
   "execution_count": 19,
   "id": "a8e9f18f",
   "metadata": {},
   "outputs": [
    {
     "name": "stdout",
     "output_type": "stream",
     "text": [
      "Baseline performance: \n",
      "ACCURACY OF THE MODEL:  96.0 %\n"
     ]
    },
    {
     "data": {
      "text/plain": [
       "RandomForestClassifier(random_state=1)"
      ]
     },
     "execution_count": 19,
     "metadata": {},
     "output_type": "execute_result"
    }
   ],
   "source": [
    "print('Baseline performance: ')\n",
    "RandF_quick_analysis(X,y)"
   ]
  },
  {
   "cell_type": "markdown",
   "id": "299e80c5",
   "metadata": {},
   "source": [
    "Now let's create a heatmap to determine how the variables are correlated to each other"
   ]
  },
  {
   "cell_type": "code",
   "execution_count": 4,
   "id": "ccc0ed00",
   "metadata": {},
   "outputs": [
    {
     "data": {
      "image/png": "[encoded data removed]",
      "text/plain": [
       "<Figure size 500x300 with 2 Axes>"
      ]
     },
     "metadata": {},
     "output_type": "display_data"
    }
   ],
   "source": [
    "plt.subplots(figsize=(5,3))\n",
    "sns.heatmap(data=X.corr(), annot=True)\n",
    "plt.savefig('Heatmap.png',bbox_inches =\"tight\")"
   ]
  },
  {
   "cell_type": "code",
   "execution_count": null,
   "id": "c939dc7c",
   "metadata": {},
   "outputs": [],
   "source": []
  },
  {
   "cell_type": "markdown",
   "id": "8530b3f6",
   "metadata": {},
   "source": [
    "We see here that the 2nd columns is most independent of all the others.  So that is a column that we definitely want to have in our final dataset to feed into our classification algorithm.  \n",
    "\n",
    "Further, petal length and petal width are highly correlated to each other.  As petal length is also slightly more correlated to sepal length, let's consider removing that variable.  "
   ]
  },
  {
   "cell_type": "code",
   "execution_count": 5,
   "id": "ea22e2c2",
   "metadata": {},
   "outputs": [],
   "source": [
    "#X['petal length (cm)']\n",
    "X_new = X.drop('petal length (cm)', axis=1)"
   ]
  },
  {
   "cell_type": "markdown",
   "id": "2feb5bfc",
   "metadata": {},
   "source": [
    "Next let's check the Random Forest accuracy with one column removed: "
   ]
  },
  {
   "cell_type": "code",
   "execution_count": 6,
   "id": "4da2229f",
   "metadata": {},
   "outputs": [
    {
     "name": "stdout",
     "output_type": "stream",
     "text": [
      "Performance with one column removed: \n",
      "ACCURACY OF THE MODEL:  91.0 %\n"
     ]
    },
    {
     "data": {
      "text/plain": [
       "RandomForestClassifier(random_state=1)"
      ]
     },
     "execution_count": 6,
     "metadata": {},
     "output_type": "execute_result"
    }
   ],
   "source": [
    "print('Performance with one column removed: ')\n",
    "RandF_quick_analysis(X_new,y)"
   ]
  },
  {
   "cell_type": "markdown",
   "id": "631e9b11",
   "metadata": {},
   "source": [
    "We see a 5% drop in accuracy, however we decreaased the data size by 25% by removing 1 out of 4 varaibles.  You will likely see some performance drop in many cases when you reduce your number of variables.  However, it may be worth it for savings in time and computing resources.  "
   ]
  },
  {
   "cell_type": "markdown",
   "id": "74f7b26c",
   "metadata": {},
   "source": [
    "## Random Forest Variable Importance \n",
    "Next, let's examine a different use case.  This comes from a technique called *Differential Power Analysis (DPA)* where each observation is the time sampled Radio Frequency (RF) amplitude response of an 8-bit microcontroller as it is encrypting text with the AES-128 algorithm.  The target is the known Hamming Weight of the byte value that the algorithm is processing at the current time.  For further reading, you can see an introductory presentation here: https://users.fit.cvut.cz/~novotnym/DPA/Analysis/dpa_Lisbon.pdf\n",
    "\n",
    "For this class, it is sufficient to know that the observations (X) are the RF response samples over time.  So if an observation consists of 1000 variables, then those 1000 variables are the sampled data recorded sequentially in time.  Further, the target (y) is the byte value we are training on, and this results in a 8-class classification use case.  By training on this data, we can build an algorithm that can guess the byte value being processed by the RF response from the chip.   "
   ]
  },
  {
   "cell_type": "code",
   "execution_count": 7,
   "id": "d4fe880c",
   "metadata": {},
   "outputs": [],
   "source": [
    "X = pd.read_csv('DPA_Data.csv', index_col=0)\n",
    "y = pd.read_csv('DPA_target.csv',index_col=0)"
   ]
  },
  {
   "cell_type": "code",
   "execution_count": 8,
   "id": "8f74998e",
   "metadata": {},
   "outputs": [
    {
     "data": {
      "text/html": [
       "<div>\n",
       "<style scoped>\n",
       "    .dataframe tbody tr th:only-of-type {\n",
       "        vertical-align: middle;\n",
       "    }\n",
       "\n",
       "    .dataframe tbody tr th {\n",
       "        vertical-align: top;\n",
       "    }\n",
       "\n",
       "    .dataframe thead th {\n",
       "        text-align: right;\n",
       "    }\n",
       "</style>\n",
       "<table border=\"1\" class=\"dataframe\">\n",
       "  <thead>\n",
       "    <tr style=\"text-align: right;\">\n",
       "      <th></th>\n",
       "      <th>0</th>\n",
       "      <th>1</th>\n",
       "      <th>2</th>\n",
       "      <th>3</th>\n",
       "      <th>4</th>\n",
       "      <th>5</th>\n",
       "      <th>6</th>\n",
       "      <th>7</th>\n",
       "      <th>8</th>\n",
       "      <th>9</th>\n",
       "      <th>...</th>\n",
       "      <th>24990</th>\n",
       "      <th>24991</th>\n",
       "      <th>24992</th>\n",
       "      <th>24993</th>\n",
       "      <th>24994</th>\n",
       "      <th>24995</th>\n",
       "      <th>24996</th>\n",
       "      <th>24997</th>\n",
       "      <th>24998</th>\n",
       "      <th>24999</th>\n",
       "    </tr>\n",
       "  </thead>\n",
       "  <tbody>\n",
       "    <tr>\n",
       "      <th>0</th>\n",
       "      <td>-104</td>\n",
       "      <td>-107</td>\n",
       "      <td>-107</td>\n",
       "      <td>-84</td>\n",
       "      <td>-71</td>\n",
       "      <td>-59</td>\n",
       "      <td>-41</td>\n",
       "      <td>-58</td>\n",
       "      <td>-46</td>\n",
       "      <td>-52</td>\n",
       "      <td>...</td>\n",
       "      <td>-9</td>\n",
       "      <td>-41</td>\n",
       "      <td>-58</td>\n",
       "      <td>-79</td>\n",
       "      <td>-92</td>\n",
       "      <td>-98</td>\n",
       "      <td>-104</td>\n",
       "      <td>-100</td>\n",
       "      <td>-103</td>\n",
       "      <td>-97</td>\n",
       "    </tr>\n",
       "    <tr>\n",
       "      <th>1</th>\n",
       "      <td>-114</td>\n",
       "      <td>-102</td>\n",
       "      <td>-100</td>\n",
       "      <td>-88</td>\n",
       "      <td>-75</td>\n",
       "      <td>-61</td>\n",
       "      <td>-59</td>\n",
       "      <td>-48</td>\n",
       "      <td>-45</td>\n",
       "      <td>-49</td>\n",
       "      <td>...</td>\n",
       "      <td>-7</td>\n",
       "      <td>-46</td>\n",
       "      <td>-58</td>\n",
       "      <td>-74</td>\n",
       "      <td>-82</td>\n",
       "      <td>-93</td>\n",
       "      <td>-102</td>\n",
       "      <td>-91</td>\n",
       "      <td>-100</td>\n",
       "      <td>-90</td>\n",
       "    </tr>\n",
       "    <tr>\n",
       "      <th>2</th>\n",
       "      <td>-116</td>\n",
       "      <td>-108</td>\n",
       "      <td>-98</td>\n",
       "      <td>-88</td>\n",
       "      <td>-74</td>\n",
       "      <td>-65</td>\n",
       "      <td>-54</td>\n",
       "      <td>-51</td>\n",
       "      <td>-46</td>\n",
       "      <td>-58</td>\n",
       "      <td>...</td>\n",
       "      <td>-18</td>\n",
       "      <td>-39</td>\n",
       "      <td>-53</td>\n",
       "      <td>-71</td>\n",
       "      <td>-79</td>\n",
       "      <td>-85</td>\n",
       "      <td>-97</td>\n",
       "      <td>-94</td>\n",
       "      <td>-89</td>\n",
       "      <td>-89</td>\n",
       "    </tr>\n",
       "    <tr>\n",
       "      <th>3</th>\n",
       "      <td>-112</td>\n",
       "      <td>-115</td>\n",
       "      <td>-93</td>\n",
       "      <td>-85</td>\n",
       "      <td>-81</td>\n",
       "      <td>-66</td>\n",
       "      <td>-53</td>\n",
       "      <td>-53</td>\n",
       "      <td>-39</td>\n",
       "      <td>-51</td>\n",
       "      <td>...</td>\n",
       "      <td>6</td>\n",
       "      <td>-26</td>\n",
       "      <td>-37</td>\n",
       "      <td>-65</td>\n",
       "      <td>-76</td>\n",
       "      <td>-95</td>\n",
       "      <td>-101</td>\n",
       "      <td>-98</td>\n",
       "      <td>-106</td>\n",
       "      <td>-93</td>\n",
       "    </tr>\n",
       "    <tr>\n",
       "      <th>4</th>\n",
       "      <td>-109</td>\n",
       "      <td>-110</td>\n",
       "      <td>-100</td>\n",
       "      <td>-87</td>\n",
       "      <td>-81</td>\n",
       "      <td>-68</td>\n",
       "      <td>-57</td>\n",
       "      <td>-51</td>\n",
       "      <td>-47</td>\n",
       "      <td>-51</td>\n",
       "      <td>...</td>\n",
       "      <td>-2</td>\n",
       "      <td>-38</td>\n",
       "      <td>-46</td>\n",
       "      <td>-72</td>\n",
       "      <td>-87</td>\n",
       "      <td>-93</td>\n",
       "      <td>-100</td>\n",
       "      <td>-97</td>\n",
       "      <td>-96</td>\n",
       "      <td>-92</td>\n",
       "    </tr>\n",
       "  </tbody>\n",
       "</table>\n",
       "<p>5 rows × 25000 columns</p>\n",
       "</div>"
      ],
      "text/plain": [
       "     0    1    2   3   4   5   6   7   8   9  ...  24990  24991  24992  24993  \\\n",
       "0 -104 -107 -107 -84 -71 -59 -41 -58 -46 -52  ...     -9    -41    -58    -79   \n",
       "1 -114 -102 -100 -88 -75 -61 -59 -48 -45 -49  ...     -7    -46    -58    -74   \n",
       "2 -116 -108  -98 -88 -74 -65 -54 -51 -46 -58  ...    -18    -39    -53    -71   \n",
       "3 -112 -115  -93 -85 -81 -66 -53 -53 -39 -51  ...      6    -26    -37    -65   \n",
       "4 -109 -110 -100 -87 -81 -68 -57 -51 -47 -51  ...     -2    -38    -46    -72   \n",
       "\n",
       "   24994  24995  24996  24997  24998  24999  \n",
       "0    -92    -98   -104   -100   -103    -97  \n",
       "1    -82    -93   -102    -91   -100    -90  \n",
       "2    -79    -85    -97    -94    -89    -89  \n",
       "3    -76    -95   -101    -98   -106    -93  \n",
       "4    -87    -93   -100    -97    -96    -92  \n",
       "\n",
       "[5 rows x 25000 columns]"
      ]
     },
     "execution_count": 8,
     "metadata": {},
     "output_type": "execute_result"
    }
   ],
   "source": [
    "y = np.ravel(y) # flattens the array for use with scipy.  \n",
    "X.head()"
   ]
  },
  {
   "cell_type": "code",
   "execution_count": 9,
   "id": "61d1aff3",
   "metadata": {},
   "outputs": [
    {
     "name": "stdout",
     "output_type": "stream",
     "text": [
      "(25000,)\n"
     ]
    },
    {
     "data": {
      "image/png": "[encoded data removed]",
      "text/plain": [
       "<Figure size 640x480 with 1 Axes>"
      ]
     },
     "metadata": {},
     "output_type": "display_data"
    }
   ],
   "source": [
    "# To Do: just put the mean plot here, don't ask students to run it, too computationally expensive\n",
    "print(X.mean(axis=0).shape)\n",
    "plt.plot(X.mean(axis=0))\n",
    "plt.title('DPA - Mean RF Traces')\n",
    "plt.xlabel('Time Sample')\n",
    "plt.ylabel('RF Power')\n",
    "plt.savefig('DPA Average RF Signal.png')\n",
    "plt.tight_layout()\n",
    "plt.show()"
   ]
  },
  {
   "cell_type": "code",
   "execution_count": 10,
   "id": "88eb1b62",
   "metadata": {},
   "outputs": [
    {
     "name": "stdout",
     "output_type": "stream",
     "text": [
      "Performance of DPA Data raw: \n",
      "ACCURACY OF THE MODEL:  63.0 %\n"
     ]
    }
   ],
   "source": [
    "print('Performance of DPA Data raw: ')\n",
    "clf = RandF_quick_analysis(X,y)"
   ]
  },
  {
   "cell_type": "code",
   "execution_count": 11,
   "id": "2b7ade8d",
   "metadata": {},
   "outputs": [
    {
     "name": "stdout",
     "output_type": "stream",
     "text": [
      "avg max depth 14.2\n"
     ]
    }
   ],
   "source": [
    "# Average tree length\n",
    "max_depth = list()\n",
    "for tree in clf.estimators_:\n",
    "    max_depth.append(tree.tree_.max_depth)\n",
    "\n",
    "print(\"avg max depth %0.1f\" % (sum(max_depth) / len(max_depth)))"
   ]
  },
  {
   "cell_type": "code",
   "execution_count": 12,
   "id": "3f5e9892",
   "metadata": {},
   "outputs": [
    {
     "data": {
      "image/png": "[encoded data removed]",
      "text/plain": [
       "<Figure size 640x480 with 1 Axes>"
      ]
     },
     "metadata": {},
     "output_type": "display_data"
    }
   ],
   "source": [
    "importances = clf.feature_importances_\n",
    "plt.plot(importances)\n",
    "plt.title('Random Forest Variable Importance')\n",
    "plt.xlabel('Time Sample')\n",
    "plt.ylabel('Variable Importance Value')\n",
    "plt.savefig('DPA Var Importance.png')\n",
    "plt.show()"
   ]
  },
  {
   "cell_type": "code",
   "execution_count": 13,
   "id": "77951ca6",
   "metadata": {},
   "outputs": [],
   "source": [
    "important_ind = importances > 0.001\n",
    "X_new = X.iloc[:,important_ind]"
   ]
  },
  {
   "cell_type": "code",
   "execution_count": 14,
   "id": "db7eda76",
   "metadata": {},
   "outputs": [
    {
     "name": "stdout",
     "output_type": "stream",
     "text": [
      "ACCURACY OF THE MODEL:  94.0 %\n"
     ]
    }
   ],
   "source": [
    "clf2 = RandF_quick_analysis(X_new,y)"
   ]
  },
  {
   "cell_type": "code",
   "execution_count": 15,
   "id": "229d8614",
   "metadata": {},
   "outputs": [
    {
     "name": "stdout",
     "output_type": "stream",
     "text": [
      "avg max depth 12.6\n"
     ]
    }
   ],
   "source": [
    "max_depth = list()\n",
    "for tree in clf2.estimators_:\n",
    "    max_depth.append(tree.tree_.max_depth)\n",
    "\n",
    "print(\"avg max depth %0.1f\" % (sum(max_depth) / len(max_depth)))"
   ]
  },
  {
   "cell_type": "markdown",
   "id": "7316ff56",
   "metadata": {},
   "source": [
    "#### Save smaller datasets"
   ]
  },
  {
   "cell_type": "code",
   "execution_count": 16,
   "id": "077f4617",
   "metadata": {},
   "outputs": [],
   "source": [
    "#Data_small = pd.DataFrame(X_new.astype(int))\n",
    "#Data_small.to_csv('DPA_Data_Small.csv')\n",
    "\n",
    "X_new.to_csv('DPA_Data_Small.csv')\n",
    "\n",
    "Ydata = pd.DataFrame(y)\n",
    "Ydata.to_csv('DPA_target.csv')"
   ]
  },
  {
   "cell_type": "code",
   "execution_count": null,
   "id": "fa5b4b16",
   "metadata": {},
   "outputs": [],
   "source": []
  }
 ],
 "metadata": {
  "kernelspec": {
   "display_name": "Python 3 (ipykernel)",
   "language": "python",
   "name": "python3"
  },
  "language_info": {
   "codemirror_mode": {
    "name": "ipython",
    "version": 3
   },
   "file_extension": ".py",
   "mimetype": "text/x-python",
   "name": "python",
   "nbconvert_exporter": "python",
   "pygments_lexer": "ipython3",
   "version": "3.9.13"
  }
 },
 "nbformat": 4,
 "nbformat_minor": 5
}
