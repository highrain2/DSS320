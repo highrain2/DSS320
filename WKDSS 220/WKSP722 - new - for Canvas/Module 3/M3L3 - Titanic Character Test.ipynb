{
 "cells": [
  {
   "cell_type": "markdown",
   "id": "93e57fa8",
   "metadata": {},
   "source": [
    "# Test with Titanic Movie Characters\n",
    "\n",
    "In the last tutorial, we trained a Random Forest Classifier on passengers that survived or did not survive.  For this exercise, you can choose to play a character from the movie.  \n",
    "\n",
    "** Note that the details in the dataset for these characters do not exactly match those of the movie.  I have tried to find actual passengers from the titanic_train dataset that matched these characters as closely as possible, and then replaced their actual names with the names of the movie characters.  \n",
    "\n",
    "<div>\n",
    "<img src = \"TitanicCharacters.png\" width=\"700\">\n",
    "</div>"
   ]
  },
  {
   "cell_type": "markdown",
   "id": "4b3b1585",
   "metadata": {},
   "source": [
    "### Use the Random Forest Classifier to predict if the character survived or not.  "
   ]
  },
  {
   "cell_type": "markdown",
   "id": "0fe2369e",
   "metadata": {},
   "source": [
    "#### Import libraries and the stored Random Forest Algorithm\n",
    "Let's start by growing a decision tree from the data"
   ]
  },
  {
   "cell_type": "code",
   "execution_count": 1,
   "id": "aab844d6",
   "metadata": {},
   "outputs": [],
   "source": [
    "# Import libraries:\n",
    "import numpy as np\n",
    "import pandas as pd\n",
    "import matplotlib.pyplot as plt\n",
    "import seaborn as sns\n",
    "\n",
    "# Workshop Functions\n",
    "import sys\n",
    "sys.path.append('..')\n",
    "from Wksp722_functions import * "
   ]
  },
  {
   "cell_type": "code",
   "execution_count": 2,
   "id": "e1f1738d",
   "metadata": {},
   "outputs": [],
   "source": [
    "# Read in the classifier trained in the previous lesson\n",
    "import pickle\n",
    "RF_Final = pickle.load(open('RF_Final.pkl', 'rb'))"
   ]
  },
  {
   "cell_type": "markdown",
   "id": "df7e095b",
   "metadata": {},
   "source": [
    "### Load the Test dataset\n",
    "* In order to expedite the process, this dataset was cleaned according to the changes we performed for the Training dataset.  Normally you would need to clean any test datasets separately.  "
   ]
  },
  {
   "cell_type": "code",
   "execution_count": 3,
   "id": "6b64692b",
   "metadata": {},
   "outputs": [
    {
     "data": {
      "text/html": [
       "<div>\n",
       "<style scoped>\n",
       "    .dataframe tbody tr th:only-of-type {\n",
       "        vertical-align: middle;\n",
       "    }\n",
       "\n",
       "    .dataframe tbody tr th {\n",
       "        vertical-align: top;\n",
       "    }\n",
       "\n",
       "    .dataframe thead th {\n",
       "        text-align: right;\n",
       "    }\n",
       "</style>\n",
       "<table border=\"1\" class=\"dataframe\">\n",
       "  <thead>\n",
       "    <tr style=\"text-align: right;\">\n",
       "      <th></th>\n",
       "      <th>PassengerId</th>\n",
       "      <th>Pclass</th>\n",
       "      <th>Name</th>\n",
       "      <th>Sex</th>\n",
       "      <th>Age</th>\n",
       "      <th>SibSp</th>\n",
       "      <th>Parch</th>\n",
       "      <th>Ticket</th>\n",
       "      <th>Fare</th>\n",
       "      <th>Embarked</th>\n",
       "      <th>Salutation</th>\n",
       "    </tr>\n",
       "  </thead>\n",
       "  <tbody>\n",
       "    <tr>\n",
       "      <th>0</th>\n",
       "      <td>13</td>\n",
       "      <td>3</td>\n",
       "      <td>Dawson, Mr. Jack</td>\n",
       "      <td>male</td>\n",
       "      <td>20</td>\n",
       "      <td>0</td>\n",
       "      <td>0</td>\n",
       "      <td>A/5. 2151</td>\n",
       "      <td>8.0500</td>\n",
       "      <td>S</td>\n",
       "      <td>Mr.</td>\n",
       "    </tr>\n",
       "    <tr>\n",
       "      <th>1</th>\n",
       "      <td>586</td>\n",
       "      <td>1</td>\n",
       "      <td>Dewitt-Bukater, Miss. Rose</td>\n",
       "      <td>female</td>\n",
       "      <td>18</td>\n",
       "      <td>0</td>\n",
       "      <td>2</td>\n",
       "      <td>110413</td>\n",
       "      <td>79.6500</td>\n",
       "      <td>S</td>\n",
       "      <td>Miss.</td>\n",
       "    </tr>\n",
       "    <tr>\n",
       "      <th>2</th>\n",
       "      <td>98</td>\n",
       "      <td>1</td>\n",
       "      <td>Hockley, Mr. Caledon</td>\n",
       "      <td>male</td>\n",
       "      <td>23</td>\n",
       "      <td>0</td>\n",
       "      <td>1</td>\n",
       "      <td>PC 17759</td>\n",
       "      <td>63.3583</td>\n",
       "      <td>C</td>\n",
       "      <td>Mr.</td>\n",
       "    </tr>\n",
       "    <tr>\n",
       "      <th>3</th>\n",
       "      <td>880</td>\n",
       "      <td>1</td>\n",
       "      <td>Dewitt-Bukater, Mrs. Ruth</td>\n",
       "      <td>female</td>\n",
       "      <td>56</td>\n",
       "      <td>0</td>\n",
       "      <td>1</td>\n",
       "      <td>11767</td>\n",
       "      <td>83.1583</td>\n",
       "      <td>C</td>\n",
       "      <td>Mrs.</td>\n",
       "    </tr>\n",
       "    <tr>\n",
       "      <th>4</th>\n",
       "      <td>185</td>\n",
       "      <td>3</td>\n",
       "      <td>Cartmell, Miss. Cora</td>\n",
       "      <td>female</td>\n",
       "      <td>4</td>\n",
       "      <td>0</td>\n",
       "      <td>2</td>\n",
       "      <td>315153</td>\n",
       "      <td>22.0250</td>\n",
       "      <td>S</td>\n",
       "      <td>Miss.</td>\n",
       "    </tr>\n",
       "  </tbody>\n",
       "</table>\n",
       "</div>"
      ],
      "text/plain": [
       "   PassengerId  Pclass                        Name     Sex  Age  SibSp  Parch  \\\n",
       "0           13       3            Dawson, Mr. Jack    male   20      0      0   \n",
       "1          586       1  Dewitt-Bukater, Miss. Rose  female   18      0      2   \n",
       "2           98       1        Hockley, Mr. Caledon    male   23      0      1   \n",
       "3          880       1   Dewitt-Bukater, Mrs. Ruth  female   56      0      1   \n",
       "4          185       3        Cartmell, Miss. Cora  female    4      0      2   \n",
       "\n",
       "      Ticket     Fare Embarked Salutation  \n",
       "0  A/5. 2151   8.0500        S        Mr.  \n",
       "1     110413  79.6500        S      Miss.  \n",
       "2   PC 17759  63.3583        C        Mr.  \n",
       "3      11767  83.1583        C       Mrs.  \n",
       "4     315153  22.0250        S      Miss.  "
      ]
     },
     "execution_count": 3,
     "metadata": {},
     "output_type": "execute_result"
    }
   ],
   "source": [
    "# Load the test dataset\n",
    "chars = pd.read_csv(\"titanicMovieCharacters.csv\")\n",
    "chars.head()"
   ]
  },
  {
   "cell_type": "markdown",
   "id": "fd9399ee",
   "metadata": {},
   "source": [
    "### Process Test dataset\n",
    "* Next we need to further process the dataset in the same manner we did in the previous lecture.  "
   ]
  },
  {
   "cell_type": "markdown",
   "id": "b5940ec7",
   "metadata": {},
   "source": [
    "Import the function defined in the previous lecture:\n",
    "\n",
    "def titanicNumericalConverter(df):\n",
    "    # convert the categorical variable 'Sex' to numerical 0 and 1 using mapping\n",
    "    mapping = {'male':0, 'female':1}\n",
    "    df.loc[:,'Sex'] = df.Sex.map(mapping)\n",
    "    \n",
    "    #convert columns using one-hot state encoding:\n",
    "    dfTemp = pd.get_dummies(df.loc[:,['Embarked','Salutation']])\n",
    "    df = pd.concat([df,dfTemp], axis=1)\n",
    "    df.drop(['PassengerId','Embarked','Name','Ticket','Salutation'], axis=1,inplace=True)\n",
    "    return df"
   ]
  },
  {
   "cell_type": "code",
   "execution_count": 4,
   "id": "69c3c2e6",
   "metadata": {},
   "outputs": [],
   "source": [
    "x_test = titanicNumericalConverter(chars)"
   ]
  },
  {
   "cell_type": "code",
   "execution_count": 5,
   "id": "ff9e3a30",
   "metadata": {},
   "outputs": [
    {
     "data": {
      "text/html": [
       "<div>\n",
       "<style scoped>\n",
       "    .dataframe tbody tr th:only-of-type {\n",
       "        vertical-align: middle;\n",
       "    }\n",
       "\n",
       "    .dataframe tbody tr th {\n",
       "        vertical-align: top;\n",
       "    }\n",
       "\n",
       "    .dataframe thead th {\n",
       "        text-align: right;\n",
       "    }\n",
       "</style>\n",
       "<table border=\"1\" class=\"dataframe\">\n",
       "  <thead>\n",
       "    <tr style=\"text-align: right;\">\n",
       "      <th></th>\n",
       "      <th>Pclass</th>\n",
       "      <th>Sex</th>\n",
       "      <th>Age</th>\n",
       "      <th>SibSp</th>\n",
       "      <th>Parch</th>\n",
       "      <th>Fare</th>\n",
       "      <th>Embarked_C</th>\n",
       "      <th>Embarked_S</th>\n",
       "      <th>Salutation_Miss.</th>\n",
       "      <th>Salutation_Mr.</th>\n",
       "      <th>Salutation_Mrs.</th>\n",
       "    </tr>\n",
       "  </thead>\n",
       "  <tbody>\n",
       "    <tr>\n",
       "      <th>0</th>\n",
       "      <td>3</td>\n",
       "      <td>0</td>\n",
       "      <td>20</td>\n",
       "      <td>0</td>\n",
       "      <td>0</td>\n",
       "      <td>8.0500</td>\n",
       "      <td>0</td>\n",
       "      <td>1</td>\n",
       "      <td>0</td>\n",
       "      <td>1</td>\n",
       "      <td>0</td>\n",
       "    </tr>\n",
       "    <tr>\n",
       "      <th>1</th>\n",
       "      <td>1</td>\n",
       "      <td>1</td>\n",
       "      <td>18</td>\n",
       "      <td>0</td>\n",
       "      <td>2</td>\n",
       "      <td>79.6500</td>\n",
       "      <td>0</td>\n",
       "      <td>1</td>\n",
       "      <td>1</td>\n",
       "      <td>0</td>\n",
       "      <td>0</td>\n",
       "    </tr>\n",
       "    <tr>\n",
       "      <th>2</th>\n",
       "      <td>1</td>\n",
       "      <td>0</td>\n",
       "      <td>23</td>\n",
       "      <td>0</td>\n",
       "      <td>1</td>\n",
       "      <td>63.3583</td>\n",
       "      <td>1</td>\n",
       "      <td>0</td>\n",
       "      <td>0</td>\n",
       "      <td>1</td>\n",
       "      <td>0</td>\n",
       "    </tr>\n",
       "    <tr>\n",
       "      <th>3</th>\n",
       "      <td>1</td>\n",
       "      <td>1</td>\n",
       "      <td>56</td>\n",
       "      <td>0</td>\n",
       "      <td>1</td>\n",
       "      <td>83.1583</td>\n",
       "      <td>1</td>\n",
       "      <td>0</td>\n",
       "      <td>0</td>\n",
       "      <td>0</td>\n",
       "      <td>1</td>\n",
       "    </tr>\n",
       "    <tr>\n",
       "      <th>4</th>\n",
       "      <td>3</td>\n",
       "      <td>1</td>\n",
       "      <td>4</td>\n",
       "      <td>0</td>\n",
       "      <td>2</td>\n",
       "      <td>22.0250</td>\n",
       "      <td>0</td>\n",
       "      <td>1</td>\n",
       "      <td>1</td>\n",
       "      <td>0</td>\n",
       "      <td>0</td>\n",
       "    </tr>\n",
       "  </tbody>\n",
       "</table>\n",
       "</div>"
      ],
      "text/plain": [
       "   Pclass  Sex  Age  SibSp  Parch     Fare  Embarked_C  Embarked_S  \\\n",
       "0       3    0   20      0      0   8.0500           0           1   \n",
       "1       1    1   18      0      2  79.6500           0           1   \n",
       "2       1    0   23      0      1  63.3583           1           0   \n",
       "3       1    1   56      0      1  83.1583           1           0   \n",
       "4       3    1    4      0      2  22.0250           0           1   \n",
       "\n",
       "   Salutation_Miss.  Salutation_Mr.  Salutation_Mrs.  \n",
       "0                 0               1                0  \n",
       "1                 1               0                0  \n",
       "2                 0               1                0  \n",
       "3                 0               0                1  \n",
       "4                 1               0                0  "
      ]
     },
     "execution_count": 5,
     "metadata": {},
     "output_type": "execute_result"
    }
   ],
   "source": [
    "x_test.head()"
   ]
  },
  {
   "cell_type": "markdown",
   "id": "1260b835",
   "metadata": {},
   "source": [
    "However, we see that we're missing some columns as they are not included in the test dataset.  However, the Random Forest algorithm will still look for them.  So we need to insert these columns at the right place.  "
   ]
  },
  {
   "cell_type": "code",
   "execution_count": 6,
   "id": "26c34ea6",
   "metadata": {},
   "outputs": [
    {
     "name": "stdout",
     "output_type": "stream",
     "text": [
      "Embarked_Q 7\n",
      "Salutation_Capt. 9\n",
      "Salutation_Col. 10\n",
      "Salutation_Countess. 11\n",
      "Salutation_Don. 12\n",
      "Salutation_Dr. 13\n",
      "Salutation_Jonkheer. 14\n",
      "Salutation_Lady. 15\n",
      "Salutation_Major. 16\n",
      "Salutation_Master. 17\n",
      "Salutation_Mlle. 19\n",
      "Salutation_Mme. 20\n",
      "Salutation_Ms. 23\n",
      "Salutation_Rev. 24\n",
      "Salutation_Sir. 25\n"
     ]
    }
   ],
   "source": [
    "# This function will insert the missing columns.  I made a function to reduce typing during class.  \n",
    "x_test = M3L3_titanicTest_colInsert(x_test)\n"
   ]
  },
  {
   "cell_type": "code",
   "execution_count": 7,
   "id": "3d3804e2",
   "metadata": {},
   "outputs": [
    {
     "name": "stdout",
     "output_type": "stream",
     "text": [
      "   Pclass  Sex  Age  SibSp  Parch     Fare  Embarked_C  Embarked_Q  \\\n",
      "0       3    0   20      0      0   8.0500           0           0   \n",
      "1       1    1   18      0      2  79.6500           0           0   \n",
      "2       1    0   23      0      1  63.3583           1           0   \n",
      "3       1    1   56      0      1  83.1583           1           0   \n",
      "4       3    1    4      0      2  22.0250           0           0   \n",
      "\n",
      "   Embarked_S  Salutation_Capt.  ...  Salutation_Major.  Salutation_Master.  \\\n",
      "0           1                 0  ...                  0                   0   \n",
      "1           1                 0  ...                  0                   0   \n",
      "2           0                 0  ...                  0                   0   \n",
      "3           0                 0  ...                  0                   0   \n",
      "4           1                 0  ...                  0                   0   \n",
      "\n",
      "   Salutation_Miss.  Salutation_Mlle.  Salutation_Mme.  Salutation_Mr.  \\\n",
      "0                 0                 0                0               1   \n",
      "1                 1                 0                0               0   \n",
      "2                 0                 0                0               1   \n",
      "3                 0                 0                0               0   \n",
      "4                 1                 0                0               0   \n",
      "\n",
      "   Salutation_Mrs.  Salutation_Ms.  Salutation_Rev.  Salutation_Sir.  \n",
      "0                0               0                0                0  \n",
      "1                0               0                0                0  \n",
      "2                0               0                0                0  \n",
      "3                1               0                0                0  \n",
      "4                0               0                0                0  \n",
      "\n",
      "[5 rows x 26 columns]\n",
      "Index(['Pclass', 'Sex', 'Age', 'SibSp', 'Parch', 'Fare', 'Embarked_C',\n",
      "       'Embarked_Q', 'Embarked_S', 'Salutation_Capt.', 'Salutation_Col.',\n",
      "       'Salutation_Countess.', 'Salutation_Don.', 'Salutation_Dr.',\n",
      "       'Salutation_Jonkheer.', 'Salutation_Lady.', 'Salutation_Major.',\n",
      "       'Salutation_Master.', 'Salutation_Miss.', 'Salutation_Mlle.',\n",
      "       'Salutation_Mme.', 'Salutation_Mr.', 'Salutation_Mrs.',\n",
      "       'Salutation_Ms.', 'Salutation_Rev.', 'Salutation_Sir.'],\n",
      "      dtype='object')\n"
     ]
    }
   ],
   "source": [
    "print(x_test.head())\n",
    "print(x_test.columns)"
   ]
  },
  {
   "cell_type": "code",
   "execution_count": 8,
   "id": "07133e0e",
   "metadata": {},
   "outputs": [],
   "source": [
    "# Next use the model to predict the survival of the passengers in this new test data\n",
    "y_pred = RF_Final.predict(x_test)"
   ]
  },
  {
   "cell_type": "code",
   "execution_count": 9,
   "id": "9e4ffed6",
   "metadata": {},
   "outputs": [],
   "source": [
    "# get the actual answers\n",
    "temp = pd.read_csv(\"titanicMovieCharacters_Answers.csv\")\n",
    "y_test = temp.loc[:,'Survived']"
   ]
  },
  {
   "cell_type": "code",
   "execution_count": 10,
   "id": "c6561f2c",
   "metadata": {},
   "outputs": [
    {
     "name": "stdout",
     "output_type": "stream",
     "text": [
      "Dawson, Mr. Jack || predicted to survive:  0 || actual:  0\n",
      "Dewitt-Bukater, Miss. Rose || predicted to survive:  1 || actual:  1\n",
      "Hockley, Mr. Caledon || predicted to survive:  0 || actual:  1\n",
      "Dewitt-Bukater, Mrs. Ruth || predicted to survive:  1 || actual:  1\n",
      "Cartmell, Miss. Cora || predicted to survive:  1 || actual:  1\n",
      "Andrews, Mr. Thomas Jr || predicted to survive:  0 || actual:  0\n"
     ]
    }
   ],
   "source": [
    "for i in range(0,len(y_pred)):\n",
    "    print(chars.loc[i,'Name'], '||', 'predicted to survive: ', y_pred[i], '||', 'actual: ', y_test[i])"
   ]
  },
  {
   "cell_type": "markdown",
   "id": "695a9858",
   "metadata": {},
   "source": [
    "#### How well did the algorithm do for your character?  \n",
    "\n",
    "***Curiosity Points (15 points)***\n",
    "Clean and process the \"titanic_test.csv\" dataset using the methods in the last 3 notebooks.  Predict the survival of the passengers in this dataset.  Then go to the Kaggle challenge website (https://www.kaggle.com/competitions/titanic) and submit your results.  See how well you did.  "
   ]
  },
  {
   "cell_type": "code",
   "execution_count": null,
   "id": "6bbc3ca1",
   "metadata": {},
   "outputs": [],
   "source": []
  }
 ],
 "metadata": {
  "kernelspec": {
   "display_name": "Python 3 (ipykernel)",
   "language": "python",
   "name": "python3"
  },
  "language_info": {
   "codemirror_mode": {
    "name": "ipython",
    "version": 3
   },
   "file_extension": ".py",
   "mimetype": "text/x-python",
   "name": "python",
   "nbconvert_exporter": "python",
   "pygments_lexer": "ipython3",
   "version": "3.9.13"
  }
 },
 "nbformat": 4,
 "nbformat_minor": 5
}
