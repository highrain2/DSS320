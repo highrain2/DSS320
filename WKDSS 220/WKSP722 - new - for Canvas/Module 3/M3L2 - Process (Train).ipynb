{
 "cells": [
  {
   "cell_type": "markdown",
   "id": "6992ca24",
   "metadata": {},
   "source": [
    "# Process\n",
    "\n",
    "Here we will process the titanic data set.  We will look for \n",
    "* Missing Data\n",
    "* Data outliers"
   ]
  },
  {
   "cell_type": "markdown",
   "id": "59178200",
   "metadata": {},
   "source": [
    "### Part 1: Missing Data\n",
    "First let's load the libraries and data"
   ]
  },
  {
   "cell_type": "code",
   "execution_count": 1,
   "id": "7b4df78d",
   "metadata": {},
   "outputs": [],
   "source": [
    "# Import libraries:\n",
    "import numpy as np\n",
    "import pandas as pd\n",
    "import matplotlib.pyplot as plt\n",
    "import seaborn as sns\n",
    "\n",
    "# Workshop Functions\n",
    "import sys\n",
    "sys.path.append('..')\n",
    "from Wksp722_functions import * "
   ]
  },
  {
   "cell_type": "code",
   "execution_count": 2,
   "id": "dd793381",
   "metadata": {},
   "outputs": [
    {
     "data": {
      "text/html": [
       "<div>\n",
       "<style scoped>\n",
       "    .dataframe tbody tr th:only-of-type {\n",
       "        vertical-align: middle;\n",
       "    }\n",
       "\n",
       "    .dataframe tbody tr th {\n",
       "        vertical-align: top;\n",
       "    }\n",
       "\n",
       "    .dataframe thead th {\n",
       "        text-align: right;\n",
       "    }\n",
       "</style>\n",
       "<table border=\"1\" class=\"dataframe\">\n",
       "  <thead>\n",
       "    <tr style=\"text-align: right;\">\n",
       "      <th></th>\n",
       "      <th>PassengerId</th>\n",
       "      <th>Survived</th>\n",
       "      <th>Pclass</th>\n",
       "      <th>Name</th>\n",
       "      <th>Sex</th>\n",
       "      <th>Age</th>\n",
       "      <th>SibSp</th>\n",
       "      <th>Parch</th>\n",
       "      <th>Ticket</th>\n",
       "      <th>Fare</th>\n",
       "      <th>Cabin</th>\n",
       "      <th>Embarked</th>\n",
       "    </tr>\n",
       "  </thead>\n",
       "  <tbody>\n",
       "    <tr>\n",
       "      <th>0</th>\n",
       "      <td>1</td>\n",
       "      <td>0</td>\n",
       "      <td>3</td>\n",
       "      <td>Braund, Mr. Owen Harris</td>\n",
       "      <td>male</td>\n",
       "      <td>22.0</td>\n",
       "      <td>1</td>\n",
       "      <td>0</td>\n",
       "      <td>A/5 21171</td>\n",
       "      <td>7.2500</td>\n",
       "      <td>NaN</td>\n",
       "      <td>S</td>\n",
       "    </tr>\n",
       "    <tr>\n",
       "      <th>1</th>\n",
       "      <td>2</td>\n",
       "      <td>1</td>\n",
       "      <td>1</td>\n",
       "      <td>Cumings, Mrs. John Bradley (Florence Briggs Th...</td>\n",
       "      <td>female</td>\n",
       "      <td>38.0</td>\n",
       "      <td>1</td>\n",
       "      <td>0</td>\n",
       "      <td>PC 17599</td>\n",
       "      <td>71.2833</td>\n",
       "      <td>C85</td>\n",
       "      <td>C</td>\n",
       "    </tr>\n",
       "  </tbody>\n",
       "</table>\n",
       "</div>"
      ],
      "text/plain": [
       "   PassengerId  Survived  Pclass  \\\n",
       "0            1         0       3   \n",
       "1            2         1       1   \n",
       "\n",
       "                                                Name     Sex   Age  SibSp  \\\n",
       "0                            Braund, Mr. Owen Harris    male  22.0      1   \n",
       "1  Cumings, Mrs. John Bradley (Florence Briggs Th...  female  38.0      1   \n",
       "\n",
       "   Parch     Ticket     Fare Cabin Embarked  \n",
       "0      0  A/5 21171   7.2500   NaN        S  \n",
       "1      0   PC 17599  71.2833   C85        C  "
      ]
     },
     "execution_count": 2,
     "metadata": {},
     "output_type": "execute_result"
    }
   ],
   "source": [
    "df = pd.read_csv(\"titanic_train.csv\")\n",
    "df.head(2)"
   ]
  },
  {
   "cell_type": "markdown",
   "id": "f023cd99",
   "metadata": {},
   "source": [
    "As we did in a previous lecture, let's reset the index to ***PassengerId***"
   ]
  },
  {
   "cell_type": "code",
   "execution_count": 3,
   "id": "08e21b51",
   "metadata": {},
   "outputs": [],
   "source": [
    "df.set_index('PassengerId', inplace=True)"
   ]
  },
  {
   "cell_type": "markdown",
   "id": "09f0070e",
   "metadata": {},
   "source": [
    "Now let's start by looking for missing data"
   ]
  },
  {
   "cell_type": "code",
   "execution_count": 4,
   "id": "9c76a6b7",
   "metadata": {},
   "outputs": [
    {
     "data": {
      "text/plain": [
       "Survived      0\n",
       "Pclass        0\n",
       "Name          0\n",
       "Sex           0\n",
       "Age         177\n",
       "SibSp         0\n",
       "Parch         0\n",
       "Ticket        0\n",
       "Fare          0\n",
       "Cabin       685\n",
       "Embarked      2\n",
       "dtype: int64"
      ]
     },
     "execution_count": 4,
     "metadata": {},
     "output_type": "execute_result"
    }
   ],
   "source": [
    "df.isnull().sum()"
   ]
  },
  {
   "cell_type": "markdown",
   "id": "1bea1998",
   "metadata": {},
   "source": [
    "With only 2 passengers in \"Embarked\" status showing missing, we will drop them from the dataframe"
   ]
  },
  {
   "cell_type": "code",
   "execution_count": 5,
   "id": "75198c11",
   "metadata": {},
   "outputs": [
    {
     "name": "stdout",
     "output_type": "stream",
     "text": [
      "(885, 11)\n",
      "(883, 11)\n"
     ]
    }
   ],
   "source": [
    "print(df.shape) # size of df before \n",
    "df = df.loc[df.loc[:,'Embarked'].notnull()]\n",
    "print(df.shape) # size of df after"
   ]
  },
  {
   "cell_type": "code",
   "execution_count": 6,
   "id": "ba7dd962",
   "metadata": {},
   "outputs": [
    {
     "data": {
      "image/png": "[encoded data removed]",
      "text/plain": [
       "<Figure size 1000x600 with 2 Axes>"
      ]
     },
     "metadata": {},
     "output_type": "display_data"
    }
   ],
   "source": [
    "plt.figure(figsize=(10,6))\n",
    "sns.heatmap(df.isna())\n",
    "plt.ylabel('Passenger ID')\n",
    "plt.show()"
   ]
  },
  {
   "cell_type": "markdown",
   "id": "b38b7530",
   "metadata": {},
   "source": [
    "\"Cabin\" stands for the cabin number or the room number on the ship.  \n",
    "\n",
    "We can hypothesize that location on the ship is not a strong correlation to whether they survived or not.  \n",
    "\n",
    "Other factors such as the passenger's wealth, which may be related to their Cabin type, can be deduced from other variables such as 'Pclass', and 'Fare'.  \n",
    "\n",
    "So we will remove this column from the dataframe"
   ]
  },
  {
   "cell_type": "code",
   "execution_count": 7,
   "id": "8c4be363",
   "metadata": {},
   "outputs": [
    {
     "data": {
      "text/html": [
       "<div>\n",
       "<style scoped>\n",
       "    .dataframe tbody tr th:only-of-type {\n",
       "        vertical-align: middle;\n",
       "    }\n",
       "\n",
       "    .dataframe tbody tr th {\n",
       "        vertical-align: top;\n",
       "    }\n",
       "\n",
       "    .dataframe thead th {\n",
       "        text-align: right;\n",
       "    }\n",
       "</style>\n",
       "<table border=\"1\" class=\"dataframe\">\n",
       "  <thead>\n",
       "    <tr style=\"text-align: right;\">\n",
       "      <th></th>\n",
       "      <th>Survived</th>\n",
       "      <th>Pclass</th>\n",
       "      <th>Name</th>\n",
       "      <th>Sex</th>\n",
       "      <th>Age</th>\n",
       "      <th>SibSp</th>\n",
       "      <th>Parch</th>\n",
       "      <th>Ticket</th>\n",
       "      <th>Fare</th>\n",
       "      <th>Embarked</th>\n",
       "    </tr>\n",
       "    <tr>\n",
       "      <th>PassengerId</th>\n",
       "      <th></th>\n",
       "      <th></th>\n",
       "      <th></th>\n",
       "      <th></th>\n",
       "      <th></th>\n",
       "      <th></th>\n",
       "      <th></th>\n",
       "      <th></th>\n",
       "      <th></th>\n",
       "      <th></th>\n",
       "    </tr>\n",
       "  </thead>\n",
       "  <tbody>\n",
       "    <tr>\n",
       "      <th>1</th>\n",
       "      <td>0</td>\n",
       "      <td>3</td>\n",
       "      <td>Braund, Mr. Owen Harris</td>\n",
       "      <td>male</td>\n",
       "      <td>22.0</td>\n",
       "      <td>1</td>\n",
       "      <td>0</td>\n",
       "      <td>A/5 21171</td>\n",
       "      <td>7.2500</td>\n",
       "      <td>S</td>\n",
       "    </tr>\n",
       "    <tr>\n",
       "      <th>2</th>\n",
       "      <td>1</td>\n",
       "      <td>1</td>\n",
       "      <td>Cumings, Mrs. John Bradley (Florence Briggs Th...</td>\n",
       "      <td>female</td>\n",
       "      <td>38.0</td>\n",
       "      <td>1</td>\n",
       "      <td>0</td>\n",
       "      <td>PC 17599</td>\n",
       "      <td>71.2833</td>\n",
       "      <td>C</td>\n",
       "    </tr>\n",
       "    <tr>\n",
       "      <th>3</th>\n",
       "      <td>1</td>\n",
       "      <td>3</td>\n",
       "      <td>Heikkinen, Miss. Laina</td>\n",
       "      <td>female</td>\n",
       "      <td>26.0</td>\n",
       "      <td>0</td>\n",
       "      <td>0</td>\n",
       "      <td>STON/O2. 3101282</td>\n",
       "      <td>7.9250</td>\n",
       "      <td>S</td>\n",
       "    </tr>\n",
       "    <tr>\n",
       "      <th>4</th>\n",
       "      <td>1</td>\n",
       "      <td>1</td>\n",
       "      <td>Futrelle, Mrs. Jacques Heath (Lily May Peel)</td>\n",
       "      <td>female</td>\n",
       "      <td>35.0</td>\n",
       "      <td>1</td>\n",
       "      <td>0</td>\n",
       "      <td>113803</td>\n",
       "      <td>53.1000</td>\n",
       "      <td>S</td>\n",
       "    </tr>\n",
       "    <tr>\n",
       "      <th>5</th>\n",
       "      <td>0</td>\n",
       "      <td>3</td>\n",
       "      <td>Allen, Mr. William Henry</td>\n",
       "      <td>male</td>\n",
       "      <td>35.0</td>\n",
       "      <td>0</td>\n",
       "      <td>0</td>\n",
       "      <td>373450</td>\n",
       "      <td>8.0500</td>\n",
       "      <td>S</td>\n",
       "    </tr>\n",
       "  </tbody>\n",
       "</table>\n",
       "</div>"
      ],
      "text/plain": [
       "             Survived  Pclass  \\\n",
       "PassengerId                     \n",
       "1                   0       3   \n",
       "2                   1       1   \n",
       "3                   1       3   \n",
       "4                   1       1   \n",
       "5                   0       3   \n",
       "\n",
       "                                                          Name     Sex   Age  \\\n",
       "PassengerId                                                                    \n",
       "1                                      Braund, Mr. Owen Harris    male  22.0   \n",
       "2            Cumings, Mrs. John Bradley (Florence Briggs Th...  female  38.0   \n",
       "3                                       Heikkinen, Miss. Laina  female  26.0   \n",
       "4                 Futrelle, Mrs. Jacques Heath (Lily May Peel)  female  35.0   \n",
       "5                                     Allen, Mr. William Henry    male  35.0   \n",
       "\n",
       "             SibSp  Parch            Ticket     Fare Embarked  \n",
       "PassengerId                                                    \n",
       "1                1      0         A/5 21171   7.2500        S  \n",
       "2                1      0          PC 17599  71.2833        C  \n",
       "3                0      0  STON/O2. 3101282   7.9250        S  \n",
       "4                1      0            113803  53.1000        S  \n",
       "5                0      0            373450   8.0500        S  "
      ]
     },
     "execution_count": 7,
     "metadata": {},
     "output_type": "execute_result"
    }
   ],
   "source": [
    "df.drop(['Cabin'], axis=1, inplace=True)\n",
    "df.head()"
   ]
  },
  {
   "cell_type": "code",
   "execution_count": 8,
   "id": "1612b009",
   "metadata": {},
   "outputs": [],
   "source": [
    "dftest = df.copy()"
   ]
  },
  {
   "cell_type": "code",
   "execution_count": 9,
   "id": "8756ab77",
   "metadata": {},
   "outputs": [
    {
     "data": {
      "text/html": [
       "<div>\n",
       "<style scoped>\n",
       "    .dataframe tbody tr th:only-of-type {\n",
       "        vertical-align: middle;\n",
       "    }\n",
       "\n",
       "    .dataframe tbody tr th {\n",
       "        vertical-align: top;\n",
       "    }\n",
       "\n",
       "    .dataframe thead th {\n",
       "        text-align: right;\n",
       "    }\n",
       "</style>\n",
       "<table border=\"1\" class=\"dataframe\">\n",
       "  <thead>\n",
       "    <tr style=\"text-align: right;\">\n",
       "      <th></th>\n",
       "      <th>Survived</th>\n",
       "      <th>Pclass</th>\n",
       "      <th>Name</th>\n",
       "      <th>Sex</th>\n",
       "      <th>Age</th>\n",
       "      <th>SibSp</th>\n",
       "      <th>Parch</th>\n",
       "      <th>Ticket</th>\n",
       "      <th>Fare</th>\n",
       "      <th>Embarked</th>\n",
       "    </tr>\n",
       "    <tr>\n",
       "      <th>PassengerId</th>\n",
       "      <th></th>\n",
       "      <th></th>\n",
       "      <th></th>\n",
       "      <th></th>\n",
       "      <th></th>\n",
       "      <th></th>\n",
       "      <th></th>\n",
       "      <th></th>\n",
       "      <th></th>\n",
       "      <th></th>\n",
       "    </tr>\n",
       "  </thead>\n",
       "  <tbody>\n",
       "    <tr>\n",
       "      <th>1</th>\n",
       "      <td>0</td>\n",
       "      <td>3</td>\n",
       "      <td>Braund, Mr. Owen Harris</td>\n",
       "      <td>male</td>\n",
       "      <td>22.0</td>\n",
       "      <td>1</td>\n",
       "      <td>0</td>\n",
       "      <td>A/5 21171</td>\n",
       "      <td>7.2500</td>\n",
       "      <td>S</td>\n",
       "    </tr>\n",
       "    <tr>\n",
       "      <th>2</th>\n",
       "      <td>1</td>\n",
       "      <td>1</td>\n",
       "      <td>Cumings, Mrs. John Bradley (Florence Briggs Th...</td>\n",
       "      <td>female</td>\n",
       "      <td>38.0</td>\n",
       "      <td>1</td>\n",
       "      <td>0</td>\n",
       "      <td>PC 17599</td>\n",
       "      <td>71.2833</td>\n",
       "      <td>C</td>\n",
       "    </tr>\n",
       "    <tr>\n",
       "      <th>3</th>\n",
       "      <td>1</td>\n",
       "      <td>3</td>\n",
       "      <td>Heikkinen, Miss. Laina</td>\n",
       "      <td>female</td>\n",
       "      <td>26.0</td>\n",
       "      <td>0</td>\n",
       "      <td>0</td>\n",
       "      <td>STON/O2. 3101282</td>\n",
       "      <td>7.9250</td>\n",
       "      <td>S</td>\n",
       "    </tr>\n",
       "    <tr>\n",
       "      <th>4</th>\n",
       "      <td>1</td>\n",
       "      <td>1</td>\n",
       "      <td>Futrelle, Mrs. Jacques Heath (Lily May Peel)</td>\n",
       "      <td>female</td>\n",
       "      <td>35.0</td>\n",
       "      <td>1</td>\n",
       "      <td>0</td>\n",
       "      <td>113803</td>\n",
       "      <td>53.1000</td>\n",
       "      <td>S</td>\n",
       "    </tr>\n",
       "    <tr>\n",
       "      <th>5</th>\n",
       "      <td>0</td>\n",
       "      <td>3</td>\n",
       "      <td>Allen, Mr. William Henry</td>\n",
       "      <td>male</td>\n",
       "      <td>35.0</td>\n",
       "      <td>0</td>\n",
       "      <td>0</td>\n",
       "      <td>373450</td>\n",
       "      <td>8.0500</td>\n",
       "      <td>S</td>\n",
       "    </tr>\n",
       "    <tr>\n",
       "      <th>6</th>\n",
       "      <td>0</td>\n",
       "      <td>3</td>\n",
       "      <td>Moran, Mr. James</td>\n",
       "      <td>male</td>\n",
       "      <td>NaN</td>\n",
       "      <td>0</td>\n",
       "      <td>0</td>\n",
       "      <td>330877</td>\n",
       "      <td>8.4583</td>\n",
       "      <td>Q</td>\n",
       "    </tr>\n",
       "    <tr>\n",
       "      <th>7</th>\n",
       "      <td>0</td>\n",
       "      <td>1</td>\n",
       "      <td>McCarthy, Mr. Timothy J</td>\n",
       "      <td>male</td>\n",
       "      <td>54.0</td>\n",
       "      <td>0</td>\n",
       "      <td>0</td>\n",
       "      <td>17463</td>\n",
       "      <td>51.8625</td>\n",
       "      <td>S</td>\n",
       "    </tr>\n",
       "    <tr>\n",
       "      <th>8</th>\n",
       "      <td>0</td>\n",
       "      <td>3</td>\n",
       "      <td>Palsson, Master. Gosta Leonard</td>\n",
       "      <td>male</td>\n",
       "      <td>2.0</td>\n",
       "      <td>3</td>\n",
       "      <td>1</td>\n",
       "      <td>349909</td>\n",
       "      <td>21.0750</td>\n",
       "      <td>S</td>\n",
       "    </tr>\n",
       "    <tr>\n",
       "      <th>9</th>\n",
       "      <td>1</td>\n",
       "      <td>3</td>\n",
       "      <td>Johnson, Mrs. Oscar W (Elisabeth Vilhelmina Berg)</td>\n",
       "      <td>female</td>\n",
       "      <td>27.0</td>\n",
       "      <td>0</td>\n",
       "      <td>2</td>\n",
       "      <td>347742</td>\n",
       "      <td>11.1333</td>\n",
       "      <td>S</td>\n",
       "    </tr>\n",
       "    <tr>\n",
       "      <th>10</th>\n",
       "      <td>1</td>\n",
       "      <td>2</td>\n",
       "      <td>Nasser, Mrs. Nicholas (Adele Achem)</td>\n",
       "      <td>female</td>\n",
       "      <td>14.0</td>\n",
       "      <td>1</td>\n",
       "      <td>0</td>\n",
       "      <td>237736</td>\n",
       "      <td>30.0708</td>\n",
       "      <td>C</td>\n",
       "    </tr>\n",
       "  </tbody>\n",
       "</table>\n",
       "</div>"
      ],
      "text/plain": [
       "             Survived  Pclass  \\\n",
       "PassengerId                     \n",
       "1                   0       3   \n",
       "2                   1       1   \n",
       "3                   1       3   \n",
       "4                   1       1   \n",
       "5                   0       3   \n",
       "6                   0       3   \n",
       "7                   0       1   \n",
       "8                   0       3   \n",
       "9                   1       3   \n",
       "10                  1       2   \n",
       "\n",
       "                                                          Name     Sex   Age  \\\n",
       "PassengerId                                                                    \n",
       "1                                      Braund, Mr. Owen Harris    male  22.0   \n",
       "2            Cumings, Mrs. John Bradley (Florence Briggs Th...  female  38.0   \n",
       "3                                       Heikkinen, Miss. Laina  female  26.0   \n",
       "4                 Futrelle, Mrs. Jacques Heath (Lily May Peel)  female  35.0   \n",
       "5                                     Allen, Mr. William Henry    male  35.0   \n",
       "6                                             Moran, Mr. James    male   NaN   \n",
       "7                                      McCarthy, Mr. Timothy J    male  54.0   \n",
       "8                               Palsson, Master. Gosta Leonard    male   2.0   \n",
       "9            Johnson, Mrs. Oscar W (Elisabeth Vilhelmina Berg)  female  27.0   \n",
       "10                         Nasser, Mrs. Nicholas (Adele Achem)  female  14.0   \n",
       "\n",
       "             SibSp  Parch            Ticket     Fare Embarked  \n",
       "PassengerId                                                    \n",
       "1                1      0         A/5 21171   7.2500        S  \n",
       "2                1      0          PC 17599  71.2833        C  \n",
       "3                0      0  STON/O2. 3101282   7.9250        S  \n",
       "4                1      0            113803  53.1000        S  \n",
       "5                0      0            373450   8.0500        S  \n",
       "6                0      0            330877   8.4583        Q  \n",
       "7                0      0             17463  51.8625        S  \n",
       "8                3      1            349909  21.0750        S  \n",
       "9                0      2            347742  11.1333        S  \n",
       "10               1      0            237736  30.0708        C  "
      ]
     },
     "execution_count": 9,
     "metadata": {},
     "output_type": "execute_result"
    }
   ],
   "source": [
    "dftest.head(10)"
   ]
  },
  {
   "cell_type": "code",
   "execution_count": 10,
   "id": "a220d51b",
   "metadata": {},
   "outputs": [
    {
     "data": {
      "text/html": [
       "<div>\n",
       "<style scoped>\n",
       "    .dataframe tbody tr th:only-of-type {\n",
       "        vertical-align: middle;\n",
       "    }\n",
       "\n",
       "    .dataframe tbody tr th {\n",
       "        vertical-align: top;\n",
       "    }\n",
       "\n",
       "    .dataframe thead th {\n",
       "        text-align: right;\n",
       "    }\n",
       "</style>\n",
       "<table border=\"1\" class=\"dataframe\">\n",
       "  <thead>\n",
       "    <tr style=\"text-align: right;\">\n",
       "      <th></th>\n",
       "      <th>Survived</th>\n",
       "      <th>Pclass</th>\n",
       "      <th>Name</th>\n",
       "      <th>Sex</th>\n",
       "      <th>Age</th>\n",
       "      <th>SibSp</th>\n",
       "      <th>Parch</th>\n",
       "      <th>Ticket</th>\n",
       "      <th>Fare</th>\n",
       "      <th>Embarked</th>\n",
       "      <th>LastName</th>\n",
       "      <th>SalFirstName</th>\n",
       "    </tr>\n",
       "    <tr>\n",
       "      <th>PassengerId</th>\n",
       "      <th></th>\n",
       "      <th></th>\n",
       "      <th></th>\n",
       "      <th></th>\n",
       "      <th></th>\n",
       "      <th></th>\n",
       "      <th></th>\n",
       "      <th></th>\n",
       "      <th></th>\n",
       "      <th></th>\n",
       "      <th></th>\n",
       "      <th></th>\n",
       "    </tr>\n",
       "  </thead>\n",
       "  <tbody>\n",
       "    <tr>\n",
       "      <th>1</th>\n",
       "      <td>0</td>\n",
       "      <td>3</td>\n",
       "      <td>Braund, Mr. Owen Harris</td>\n",
       "      <td>male</td>\n",
       "      <td>22.0</td>\n",
       "      <td>1</td>\n",
       "      <td>0</td>\n",
       "      <td>A/5 21171</td>\n",
       "      <td>7.2500</td>\n",
       "      <td>S</td>\n",
       "      <td>Braund</td>\n",
       "      <td>Mr. Owen Harris</td>\n",
       "    </tr>\n",
       "    <tr>\n",
       "      <th>2</th>\n",
       "      <td>1</td>\n",
       "      <td>1</td>\n",
       "      <td>Cumings, Mrs. John Bradley (Florence Briggs Th...</td>\n",
       "      <td>female</td>\n",
       "      <td>38.0</td>\n",
       "      <td>1</td>\n",
       "      <td>0</td>\n",
       "      <td>PC 17599</td>\n",
       "      <td>71.2833</td>\n",
       "      <td>C</td>\n",
       "      <td>Cumings</td>\n",
       "      <td>Mrs. John Bradley (Florence Briggs Thayer)</td>\n",
       "    </tr>\n",
       "    <tr>\n",
       "      <th>3</th>\n",
       "      <td>1</td>\n",
       "      <td>3</td>\n",
       "      <td>Heikkinen, Miss. Laina</td>\n",
       "      <td>female</td>\n",
       "      <td>26.0</td>\n",
       "      <td>0</td>\n",
       "      <td>0</td>\n",
       "      <td>STON/O2. 3101282</td>\n",
       "      <td>7.9250</td>\n",
       "      <td>S</td>\n",
       "      <td>Heikkinen</td>\n",
       "      <td>Miss. Laina</td>\n",
       "    </tr>\n",
       "    <tr>\n",
       "      <th>4</th>\n",
       "      <td>1</td>\n",
       "      <td>1</td>\n",
       "      <td>Futrelle, Mrs. Jacques Heath (Lily May Peel)</td>\n",
       "      <td>female</td>\n",
       "      <td>35.0</td>\n",
       "      <td>1</td>\n",
       "      <td>0</td>\n",
       "      <td>113803</td>\n",
       "      <td>53.1000</td>\n",
       "      <td>S</td>\n",
       "      <td>Futrelle</td>\n",
       "      <td>Mrs. Jacques Heath (Lily May Peel)</td>\n",
       "    </tr>\n",
       "    <tr>\n",
       "      <th>5</th>\n",
       "      <td>0</td>\n",
       "      <td>3</td>\n",
       "      <td>Allen, Mr. William Henry</td>\n",
       "      <td>male</td>\n",
       "      <td>35.0</td>\n",
       "      <td>0</td>\n",
       "      <td>0</td>\n",
       "      <td>373450</td>\n",
       "      <td>8.0500</td>\n",
       "      <td>S</td>\n",
       "      <td>Allen</td>\n",
       "      <td>Mr. William Henry</td>\n",
       "    </tr>\n",
       "  </tbody>\n",
       "</table>\n",
       "</div>"
      ],
      "text/plain": [
       "             Survived  Pclass  \\\n",
       "PassengerId                     \n",
       "1                   0       3   \n",
       "2                   1       1   \n",
       "3                   1       3   \n",
       "4                   1       1   \n",
       "5                   0       3   \n",
       "\n",
       "                                                          Name     Sex   Age  \\\n",
       "PassengerId                                                                    \n",
       "1                                      Braund, Mr. Owen Harris    male  22.0   \n",
       "2            Cumings, Mrs. John Bradley (Florence Briggs Th...  female  38.0   \n",
       "3                                       Heikkinen, Miss. Laina  female  26.0   \n",
       "4                 Futrelle, Mrs. Jacques Heath (Lily May Peel)  female  35.0   \n",
       "5                                     Allen, Mr. William Henry    male  35.0   \n",
       "\n",
       "             SibSp  Parch            Ticket     Fare Embarked   LastName  \\\n",
       "PassengerId                                                                \n",
       "1                1      0         A/5 21171   7.2500        S     Braund   \n",
       "2                1      0          PC 17599  71.2833        C    Cumings   \n",
       "3                0      0  STON/O2. 3101282   7.9250        S  Heikkinen   \n",
       "4                1      0            113803  53.1000        S   Futrelle   \n",
       "5                0      0            373450   8.0500        S      Allen   \n",
       "\n",
       "                                            SalFirstName  \n",
       "PassengerId                                               \n",
       "1                                        Mr. Owen Harris  \n",
       "2             Mrs. John Bradley (Florence Briggs Thayer)  \n",
       "3                                            Miss. Laina  \n",
       "4                     Mrs. Jacques Heath (Lily May Peel)  \n",
       "5                                      Mr. William Henry  "
      ]
     },
     "execution_count": 10,
     "metadata": {},
     "output_type": "execute_result"
    }
   ],
   "source": [
    "dftest[['LastName','SalFirstName']] = dftest.loc[:,'Name'].str.split(\",\",n=2, expand=True)\n",
    "dftest.head()\n",
    "#dftest.loc[:,['LastName','SalFirstName']] = dftest.loc[:,'SalFirst'].str.split(\",\",n=2, expand=True)\n",
    "#dftest.head()\n"
   ]
  },
  {
   "cell_type": "code",
   "execution_count": 11,
   "id": "21ff334d",
   "metadata": {},
   "outputs": [],
   "source": [
    "temp=dftest.loc[:,'SalFirstName'].str.split(\".\", n=2, expand=True)\n",
    "#temp.loc[:,'2']\n",
    "#temp.loc[temp.loc[:,2].isnull(),:]\n",
    "#dftest.loc[:,'SalFirstName']\n",
    "#dftest[['Sal','FirstName']] = dftest.loc[:,'SalFirstName'].str.split(\".\", n=1, expand=True)\n",
    "#dftest.head()"
   ]
  },
  {
   "cell_type": "code",
   "execution_count": 12,
   "id": "01cc58f7",
   "metadata": {},
   "outputs": [
    {
     "data": {
      "text/html": [
       "<div>\n",
       "<style scoped>\n",
       "    .dataframe tbody tr th:only-of-type {\n",
       "        vertical-align: middle;\n",
       "    }\n",
       "\n",
       "    .dataframe tbody tr th {\n",
       "        vertical-align: top;\n",
       "    }\n",
       "\n",
       "    .dataframe thead th {\n",
       "        text-align: right;\n",
       "    }\n",
       "</style>\n",
       "<table border=\"1\" class=\"dataframe\">\n",
       "  <thead>\n",
       "    <tr style=\"text-align: right;\">\n",
       "      <th></th>\n",
       "      <th>0</th>\n",
       "      <th>1</th>\n",
       "      <th>2</th>\n",
       "    </tr>\n",
       "    <tr>\n",
       "      <th>PassengerId</th>\n",
       "      <th></th>\n",
       "      <th></th>\n",
       "      <th></th>\n",
       "    </tr>\n",
       "  </thead>\n",
       "  <tbody>\n",
       "    <tr>\n",
       "      <th>514</th>\n",
       "      <td>Mrs</td>\n",
       "      <td>Martin (Elizabeth L</td>\n",
       "      <td>Barrett)</td>\n",
       "    </tr>\n",
       "  </tbody>\n",
       "</table>\n",
       "</div>"
      ],
      "text/plain": [
       "                0                     1          2\n",
       "PassengerId                                       \n",
       "514           Mrs   Martin (Elizabeth L   Barrett)"
      ]
     },
     "execution_count": 12,
     "metadata": {},
     "output_type": "execute_result"
    }
   ],
   "source": [
    "temp.loc[temp.loc[:,2].notnull(),:]"
   ]
  },
  {
   "cell_type": "code",
   "execution_count": 13,
   "id": "af3da5cb",
   "metadata": {},
   "outputs": [
    {
     "data": {
      "text/html": [
       "<div>\n",
       "<style scoped>\n",
       "    .dataframe tbody tr th:only-of-type {\n",
       "        vertical-align: middle;\n",
       "    }\n",
       "\n",
       "    .dataframe tbody tr th {\n",
       "        vertical-align: top;\n",
       "    }\n",
       "\n",
       "    .dataframe thead th {\n",
       "        text-align: right;\n",
       "    }\n",
       "</style>\n",
       "<table border=\"1\" class=\"dataframe\">\n",
       "  <thead>\n",
       "    <tr style=\"text-align: right;\">\n",
       "      <th></th>\n",
       "      <th>Survived</th>\n",
       "      <th>Pclass</th>\n",
       "      <th>Age</th>\n",
       "      <th>SibSp</th>\n",
       "      <th>Parch</th>\n",
       "      <th>Fare</th>\n",
       "    </tr>\n",
       "  </thead>\n",
       "  <tbody>\n",
       "    <tr>\n",
       "      <th>count</th>\n",
       "      <td>883.000000</td>\n",
       "      <td>883.000000</td>\n",
       "      <td>706.000000</td>\n",
       "      <td>883.000000</td>\n",
       "      <td>883.000000</td>\n",
       "      <td>883.000000</td>\n",
       "    </tr>\n",
       "    <tr>\n",
       "      <th>mean</th>\n",
       "      <td>0.380521</td>\n",
       "      <td>2.315968</td>\n",
       "      <td>29.667380</td>\n",
       "      <td>0.527746</td>\n",
       "      <td>0.378256</td>\n",
       "      <td>32.024584</td>\n",
       "    </tr>\n",
       "    <tr>\n",
       "      <th>std</th>\n",
       "      <td>0.485790</td>\n",
       "      <td>0.832207</td>\n",
       "      <td>14.470766</td>\n",
       "      <td>1.106603</td>\n",
       "      <td>0.805074</td>\n",
       "      <td>49.780234</td>\n",
       "    </tr>\n",
       "    <tr>\n",
       "      <th>min</th>\n",
       "      <td>0.000000</td>\n",
       "      <td>1.000000</td>\n",
       "      <td>0.420000</td>\n",
       "      <td>0.000000</td>\n",
       "      <td>0.000000</td>\n",
       "      <td>0.000000</td>\n",
       "    </tr>\n",
       "    <tr>\n",
       "      <th>25%</th>\n",
       "      <td>0.000000</td>\n",
       "      <td>2.000000</td>\n",
       "      <td>20.625000</td>\n",
       "      <td>0.000000</td>\n",
       "      <td>0.000000</td>\n",
       "      <td>7.895800</td>\n",
       "    </tr>\n",
       "    <tr>\n",
       "      <th>50%</th>\n",
       "      <td>0.000000</td>\n",
       "      <td>3.000000</td>\n",
       "      <td>28.000000</td>\n",
       "      <td>0.000000</td>\n",
       "      <td>0.000000</td>\n",
       "      <td>14.454200</td>\n",
       "    </tr>\n",
       "    <tr>\n",
       "      <th>75%</th>\n",
       "      <td>1.000000</td>\n",
       "      <td>3.000000</td>\n",
       "      <td>38.000000</td>\n",
       "      <td>1.000000</td>\n",
       "      <td>0.000000</td>\n",
       "      <td>30.695800</td>\n",
       "    </tr>\n",
       "    <tr>\n",
       "      <th>max</th>\n",
       "      <td>1.000000</td>\n",
       "      <td>3.000000</td>\n",
       "      <td>80.000000</td>\n",
       "      <td>8.000000</td>\n",
       "      <td>6.000000</td>\n",
       "      <td>512.329200</td>\n",
       "    </tr>\n",
       "  </tbody>\n",
       "</table>\n",
       "</div>"
      ],
      "text/plain": [
       "         Survived      Pclass         Age       SibSp       Parch        Fare\n",
       "count  883.000000  883.000000  706.000000  883.000000  883.000000  883.000000\n",
       "mean     0.380521    2.315968   29.667380    0.527746    0.378256   32.024584\n",
       "std      0.485790    0.832207   14.470766    1.106603    0.805074   49.780234\n",
       "min      0.000000    1.000000    0.420000    0.000000    0.000000    0.000000\n",
       "25%      0.000000    2.000000   20.625000    0.000000    0.000000    7.895800\n",
       "50%      0.000000    3.000000   28.000000    0.000000    0.000000   14.454200\n",
       "75%      1.000000    3.000000   38.000000    1.000000    0.000000   30.695800\n",
       "max      1.000000    3.000000   80.000000    8.000000    6.000000  512.329200"
      ]
     },
     "execution_count": 13,
     "metadata": {},
     "output_type": "execute_result"
    }
   ],
   "source": [
    "df.describe()\n",
    "\n",
    "## If we wanted to replace all NAN's with the median value, use this code:\n",
    "#temp = df.copy()\n",
    "#temp['Age'] = temp['Age'].fillna(temp['Age'].median())\n",
    "#temp.isnull().sum()"
   ]
  },
  {
   "cell_type": "markdown",
   "id": "5980bbc7",
   "metadata": {},
   "source": [
    "Now let's theorize how to replace the missing ages.  A glance at the names shows that each name has a salutation such as \"Mr.\", \"Mrs.\", \"Miss\", \"Master\", etc.  It is a reasonable assumption that some salutations are correlated to age.  For instance, \n",
    "* \"Miss\" would generally be younger than a \"Mrs.\".  \n",
    "* \"Master\" (salutation for a small child) would be younger than a \"Mr.\"\n",
    "\n",
    "So let's find the median age for each salutation and then replace missing age values with that for the passenger's respective category"
   ]
  },
  {
   "cell_type": "markdown",
   "id": "4e61ec34",
   "metadata": {},
   "source": [
    "Split the strings in the Name column into seperate names\n",
    "\n",
    "Using the n=3 option restricts the splitting to 4 sub-strings.  Some people have very long names with double first names, and we are only interested in the 2nd column\n",
    "\n",
    "Also using the \"expand=True\" option, we get the resulting strings back as separate columns, which makes accessing the data easier.  "
   ]
  },
  {
   "cell_type": "code",
   "execution_count": 14,
   "id": "7dcbcaa5",
   "metadata": {},
   "outputs": [],
   "source": [
    "split_name = df.loc[:,'Name'].str.split(n=3, expand=True)"
   ]
  },
  {
   "cell_type": "code",
   "execution_count": 15,
   "id": "500cb159",
   "metadata": {},
   "outputs": [],
   "source": [
    "# let's see the list of salutations\n",
    "df.loc[:,'Salutation']=split_name[1]"
   ]
  },
  {
   "cell_type": "code",
   "execution_count": 16,
   "id": "70a78049",
   "metadata": {},
   "outputs": [
    {
     "data": {
      "text/plain": [
       "Salutation\n",
       "Capt.          1\n",
       "Col.           2\n",
       "Countess.      1\n",
       "Don.           1\n",
       "Dr.            7\n",
       "Jonkheer.      1\n",
       "Lady.          1\n",
       "Major.         2\n",
       "Master.       40\n",
       "Miss.        179\n",
       "Mlle.          2\n",
       "Mme.           1\n",
       "Mr.          514\n",
       "Mrs.         123\n",
       "Ms.            1\n",
       "Rev.           6\n",
       "Sir.           1\n",
       "Name: Name, dtype: int64"
      ]
     },
     "execution_count": 16,
     "metadata": {},
     "output_type": "execute_result"
    }
   ],
   "source": [
    "#  Count the number of passengers for each salutation\n",
    "df.groupby('Salutation').count().loc[:,'Name']"
   ]
  },
  {
   "cell_type": "code",
   "execution_count": 17,
   "id": "6574ce06",
   "metadata": {},
   "outputs": [
    {
     "data": {
      "text/html": [
       "<div>\n",
       "<style scoped>\n",
       "    .dataframe tbody tr th:only-of-type {\n",
       "        vertical-align: middle;\n",
       "    }\n",
       "\n",
       "    .dataframe tbody tr th {\n",
       "        vertical-align: top;\n",
       "    }\n",
       "\n",
       "    .dataframe thead th {\n",
       "        text-align: right;\n",
       "    }\n",
       "</style>\n",
       "<table border=\"1\" class=\"dataframe\">\n",
       "  <thead>\n",
       "    <tr style=\"text-align: right;\">\n",
       "      <th></th>\n",
       "      <th>Survived</th>\n",
       "      <th>Pclass</th>\n",
       "      <th>Name</th>\n",
       "      <th>Sex</th>\n",
       "      <th>Age</th>\n",
       "      <th>SibSp</th>\n",
       "      <th>Parch</th>\n",
       "      <th>Ticket</th>\n",
       "      <th>Fare</th>\n",
       "      <th>Embarked</th>\n",
       "      <th>Salutation</th>\n",
       "    </tr>\n",
       "    <tr>\n",
       "      <th>PassengerId</th>\n",
       "      <th></th>\n",
       "      <th></th>\n",
       "      <th></th>\n",
       "      <th></th>\n",
       "      <th></th>\n",
       "      <th></th>\n",
       "      <th></th>\n",
       "      <th></th>\n",
       "      <th></th>\n",
       "      <th></th>\n",
       "      <th></th>\n",
       "    </tr>\n",
       "  </thead>\n",
       "  <tbody>\n",
       "    <tr>\n",
       "      <th>1</th>\n",
       "      <td>0</td>\n",
       "      <td>3</td>\n",
       "      <td>Braund, Mr. Owen Harris</td>\n",
       "      <td>male</td>\n",
       "      <td>22.0</td>\n",
       "      <td>1</td>\n",
       "      <td>0</td>\n",
       "      <td>A/5 21171</td>\n",
       "      <td>7.2500</td>\n",
       "      <td>S</td>\n",
       "      <td>Mr.</td>\n",
       "    </tr>\n",
       "    <tr>\n",
       "      <th>2</th>\n",
       "      <td>1</td>\n",
       "      <td>1</td>\n",
       "      <td>Cumings, Mrs. John Bradley (Florence Briggs Th...</td>\n",
       "      <td>female</td>\n",
       "      <td>38.0</td>\n",
       "      <td>1</td>\n",
       "      <td>0</td>\n",
       "      <td>PC 17599</td>\n",
       "      <td>71.2833</td>\n",
       "      <td>C</td>\n",
       "      <td>Mrs.</td>\n",
       "    </tr>\n",
       "    <tr>\n",
       "      <th>3</th>\n",
       "      <td>1</td>\n",
       "      <td>3</td>\n",
       "      <td>Heikkinen, Miss. Laina</td>\n",
       "      <td>female</td>\n",
       "      <td>26.0</td>\n",
       "      <td>0</td>\n",
       "      <td>0</td>\n",
       "      <td>STON/O2. 3101282</td>\n",
       "      <td>7.9250</td>\n",
       "      <td>S</td>\n",
       "      <td>Miss.</td>\n",
       "    </tr>\n",
       "    <tr>\n",
       "      <th>4</th>\n",
       "      <td>1</td>\n",
       "      <td>1</td>\n",
       "      <td>Futrelle, Mrs. Jacques Heath (Lily May Peel)</td>\n",
       "      <td>female</td>\n",
       "      <td>35.0</td>\n",
       "      <td>1</td>\n",
       "      <td>0</td>\n",
       "      <td>113803</td>\n",
       "      <td>53.1000</td>\n",
       "      <td>S</td>\n",
       "      <td>Mrs.</td>\n",
       "    </tr>\n",
       "    <tr>\n",
       "      <th>5</th>\n",
       "      <td>0</td>\n",
       "      <td>3</td>\n",
       "      <td>Allen, Mr. William Henry</td>\n",
       "      <td>male</td>\n",
       "      <td>35.0</td>\n",
       "      <td>0</td>\n",
       "      <td>0</td>\n",
       "      <td>373450</td>\n",
       "      <td>8.0500</td>\n",
       "      <td>S</td>\n",
       "      <td>Mr.</td>\n",
       "    </tr>\n",
       "  </tbody>\n",
       "</table>\n",
       "</div>"
      ],
      "text/plain": [
       "             Survived  Pclass  \\\n",
       "PassengerId                     \n",
       "1                   0       3   \n",
       "2                   1       1   \n",
       "3                   1       3   \n",
       "4                   1       1   \n",
       "5                   0       3   \n",
       "\n",
       "                                                          Name     Sex   Age  \\\n",
       "PassengerId                                                                    \n",
       "1                                      Braund, Mr. Owen Harris    male  22.0   \n",
       "2            Cumings, Mrs. John Bradley (Florence Briggs Th...  female  38.0   \n",
       "3                                       Heikkinen, Miss. Laina  female  26.0   \n",
       "4                 Futrelle, Mrs. Jacques Heath (Lily May Peel)  female  35.0   \n",
       "5                                     Allen, Mr. William Henry    male  35.0   \n",
       "\n",
       "             SibSp  Parch            Ticket     Fare Embarked Salutation  \n",
       "PassengerId                                                               \n",
       "1                1      0         A/5 21171   7.2500        S        Mr.  \n",
       "2                1      0          PC 17599  71.2833        C       Mrs.  \n",
       "3                0      0  STON/O2. 3101282   7.9250        S      Miss.  \n",
       "4                1      0            113803  53.1000        S       Mrs.  \n",
       "5                0      0            373450   8.0500        S        Mr.  "
      ]
     },
     "execution_count": 17,
     "metadata": {},
     "output_type": "execute_result"
    }
   ],
   "source": [
    "# Now let's calculate the median age for each salutation\n",
    "# But first let's filter out the entries that have null values in the \"Age\" column\n",
    "df_clean = df.loc[pd.notna(df.loc[:,'Age']),:]\n",
    "df_clean.head()\n",
    "\n",
    "### Uncomment the code below to verify all null records the \"Age\" column were removed\n",
    "# df_clean['Age'].isnull().sum()"
   ]
  },
  {
   "cell_type": "code",
   "execution_count": 18,
   "id": "18f41874",
   "metadata": {},
   "outputs": [
    {
     "data": {
      "text/plain": [
       "PassengerId\n",
       "746    70.0\n",
       "Name: Age, dtype: float64"
      ]
     },
     "execution_count": 18,
     "metadata": {},
     "output_type": "execute_result"
    }
   ],
   "source": [
    "df_clean.loc[df_clean.loc[:,'Salutation']=='Capt.','Age']"
   ]
  },
  {
   "cell_type": "code",
   "execution_count": 19,
   "id": "d89c4f7e",
   "metadata": {},
   "outputs": [
    {
     "name": "stdout",
     "output_type": "stream",
     "text": [
      "Salutation\n",
      "Capt.        70.0\n",
      "Col.         58.0\n",
      "Countess.    33.0\n",
      "Don.         40.0\n",
      "Dr.          46.5\n",
      "Jonkheer.    38.0\n",
      "Lady.        48.0\n",
      "Major.       48.5\n",
      "Master.       3.5\n",
      "Miss.        21.0\n",
      "Mlle.        24.0\n",
      "Mme.         24.0\n",
      "Mr.          30.0\n",
      "Mrs.         35.0\n",
      "Ms.          28.0\n",
      "Rev.         46.5\n",
      "Sir.         49.0\n",
      "Name: Age, dtype: float64\n"
     ]
    }
   ],
   "source": [
    "# Now let's calculate the median_age per salutation\n",
    "median_age = df_clean.groupby('Salutation').median().loc[:,'Age']\n",
    "print((median_age))"
   ]
  },
  {
   "cell_type": "markdown",
   "id": "64fb412e",
   "metadata": {},
   "source": [
    "Now go back to the original dataframe and replace any missing values in the \"Age\" column with their respective median values"
   ]
  },
  {
   "cell_type": "code",
   "execution_count": 20,
   "id": "1654d1dd",
   "metadata": {},
   "outputs": [
    {
     "data": {
      "text/plain": [
       "177"
      ]
     },
     "execution_count": 20,
     "metadata": {},
     "output_type": "execute_result"
    }
   ],
   "source": [
    "df.loc[:,'Age'].isnull().sum()"
   ]
  },
  {
   "cell_type": "code",
   "execution_count": 21,
   "id": "e9c20570",
   "metadata": {},
   "outputs": [],
   "source": [
    "for ind in df.index:\n",
    "    if np.isnan(df.loc[ind,'Age']): \n",
    "        df.loc[ind,'Age'] = median_age[df.loc[ind,'Salutation']]"
   ]
  },
  {
   "cell_type": "markdown",
   "id": "e484ae90",
   "metadata": {},
   "source": [
    "***Curiosity Points (10 points)***\n",
    "Use Method Chaining to replace the for loop above.  Verify that the resulting dataframe is the same as that with the for loop.\n",
    "(Hint) use the ***index*** and ***map*** dataframe functions\n",
    "\n",
    "If you're stuck and want to see one possible solution, run the code below.  Remove the '#' and then run"
   ]
  },
  {
   "cell_type": "code",
   "execution_count": 22,
   "id": "7bb2d0d0",
   "metadata": {},
   "outputs": [],
   "source": [
    "# M3L2_1()"
   ]
  },
  {
   "cell_type": "markdown",
   "id": "f4246073",
   "metadata": {},
   "source": [
    "### Part 2: Outliers"
   ]
  },
  {
   "cell_type": "code",
   "execution_count": 23,
   "id": "4e65af85",
   "metadata": {},
   "outputs": [
    {
     "data": {
      "text/html": [
       "<div>\n",
       "<style scoped>\n",
       "    .dataframe tbody tr th:only-of-type {\n",
       "        vertical-align: middle;\n",
       "    }\n",
       "\n",
       "    .dataframe tbody tr th {\n",
       "        vertical-align: top;\n",
       "    }\n",
       "\n",
       "    .dataframe thead th {\n",
       "        text-align: right;\n",
       "    }\n",
       "</style>\n",
       "<table border=\"1\" class=\"dataframe\">\n",
       "  <thead>\n",
       "    <tr style=\"text-align: right;\">\n",
       "      <th></th>\n",
       "      <th>Survived</th>\n",
       "      <th>Pclass</th>\n",
       "      <th>Name</th>\n",
       "      <th>Sex</th>\n",
       "      <th>Age</th>\n",
       "      <th>SibSp</th>\n",
       "      <th>Parch</th>\n",
       "      <th>Ticket</th>\n",
       "      <th>Fare</th>\n",
       "      <th>Embarked</th>\n",
       "      <th>Salutation</th>\n",
       "    </tr>\n",
       "    <tr>\n",
       "      <th>PassengerId</th>\n",
       "      <th></th>\n",
       "      <th></th>\n",
       "      <th></th>\n",
       "      <th></th>\n",
       "      <th></th>\n",
       "      <th></th>\n",
       "      <th></th>\n",
       "      <th></th>\n",
       "      <th></th>\n",
       "      <th></th>\n",
       "      <th></th>\n",
       "    </tr>\n",
       "  </thead>\n",
       "  <tbody>\n",
       "    <tr>\n",
       "      <th>1</th>\n",
       "      <td>0</td>\n",
       "      <td>3</td>\n",
       "      <td>Braund, Mr. Owen Harris</td>\n",
       "      <td>male</td>\n",
       "      <td>22.0</td>\n",
       "      <td>1</td>\n",
       "      <td>0</td>\n",
       "      <td>A/5 21171</td>\n",
       "      <td>7.2500</td>\n",
       "      <td>S</td>\n",
       "      <td>Mr.</td>\n",
       "    </tr>\n",
       "    <tr>\n",
       "      <th>2</th>\n",
       "      <td>1</td>\n",
       "      <td>1</td>\n",
       "      <td>Cumings, Mrs. John Bradley (Florence Briggs Th...</td>\n",
       "      <td>female</td>\n",
       "      <td>38.0</td>\n",
       "      <td>1</td>\n",
       "      <td>0</td>\n",
       "      <td>PC 17599</td>\n",
       "      <td>71.2833</td>\n",
       "      <td>C</td>\n",
       "      <td>Mrs.</td>\n",
       "    </tr>\n",
       "    <tr>\n",
       "      <th>3</th>\n",
       "      <td>1</td>\n",
       "      <td>3</td>\n",
       "      <td>Heikkinen, Miss. Laina</td>\n",
       "      <td>female</td>\n",
       "      <td>26.0</td>\n",
       "      <td>0</td>\n",
       "      <td>0</td>\n",
       "      <td>STON/O2. 3101282</td>\n",
       "      <td>7.9250</td>\n",
       "      <td>S</td>\n",
       "      <td>Miss.</td>\n",
       "    </tr>\n",
       "    <tr>\n",
       "      <th>4</th>\n",
       "      <td>1</td>\n",
       "      <td>1</td>\n",
       "      <td>Futrelle, Mrs. Jacques Heath (Lily May Peel)</td>\n",
       "      <td>female</td>\n",
       "      <td>35.0</td>\n",
       "      <td>1</td>\n",
       "      <td>0</td>\n",
       "      <td>113803</td>\n",
       "      <td>53.1000</td>\n",
       "      <td>S</td>\n",
       "      <td>Mrs.</td>\n",
       "    </tr>\n",
       "    <tr>\n",
       "      <th>5</th>\n",
       "      <td>0</td>\n",
       "      <td>3</td>\n",
       "      <td>Allen, Mr. William Henry</td>\n",
       "      <td>male</td>\n",
       "      <td>35.0</td>\n",
       "      <td>0</td>\n",
       "      <td>0</td>\n",
       "      <td>373450</td>\n",
       "      <td>8.0500</td>\n",
       "      <td>S</td>\n",
       "      <td>Mr.</td>\n",
       "    </tr>\n",
       "  </tbody>\n",
       "</table>\n",
       "</div>"
      ],
      "text/plain": [
       "             Survived  Pclass  \\\n",
       "PassengerId                     \n",
       "1                   0       3   \n",
       "2                   1       1   \n",
       "3                   1       3   \n",
       "4                   1       1   \n",
       "5                   0       3   \n",
       "\n",
       "                                                          Name     Sex   Age  \\\n",
       "PassengerId                                                                    \n",
       "1                                      Braund, Mr. Owen Harris    male  22.0   \n",
       "2            Cumings, Mrs. John Bradley (Florence Briggs Th...  female  38.0   \n",
       "3                                       Heikkinen, Miss. Laina  female  26.0   \n",
       "4                 Futrelle, Mrs. Jacques Heath (Lily May Peel)  female  35.0   \n",
       "5                                     Allen, Mr. William Henry    male  35.0   \n",
       "\n",
       "             SibSp  Parch            Ticket     Fare Embarked Salutation  \n",
       "PassengerId                                                               \n",
       "1                1      0         A/5 21171   7.2500        S        Mr.  \n",
       "2                1      0          PC 17599  71.2833        C       Mrs.  \n",
       "3                0      0  STON/O2. 3101282   7.9250        S      Miss.  \n",
       "4                1      0            113803  53.1000        S       Mrs.  \n",
       "5                0      0            373450   8.0500        S        Mr.  "
      ]
     },
     "execution_count": 23,
     "metadata": {},
     "output_type": "execute_result"
    }
   ],
   "source": [
    "df.head()"
   ]
  },
  {
   "cell_type": "markdown",
   "id": "21309316",
   "metadata": {},
   "source": [
    "Reviewing the current dataframe, we see that we do not need to consider the Survived, Pclass, Name, Sex, Ticket, and Embarked columns for outlier analysis.  This is because their the columns have unique values for each passenger (e.g. Name, Ticket) or there are too few categories to warrant an analysis (e.g. Survived, Pclass, Sex, Embarked).  We will examine these later.   \n",
    "\n",
    "We also can not use the boxplot function for Salutation, as it requires a numeric number and it is not possible to assign a nominal order to the values in this column.  However, earlier in this exercise we saw the distribution of each.  "
   ]
  },
  {
   "cell_type": "code",
   "execution_count": 24,
   "id": "099d043d",
   "metadata": {},
   "outputs": [
    {
     "data": {
      "image/png": "[encoded data removed]",
      "text/plain": [
       "<Figure size 640x480 with 1 Axes>"
      ]
     },
     "metadata": {},
     "output_type": "display_data"
    },
    {
     "name": "stdout",
     "output_type": "stream",
     "text": [
      "Number of Age outliers are:  38\n"
     ]
    }
   ],
   "source": [
    "# Review the Age column\n",
    "sns.boxplot(y=df.loc[:,'Age'])\n",
    "plt.show()\n",
    "\n",
    "# We see several outliers over 55 at the top of the boxplot.  These are outliers but they are likely correctly recorded.  \n",
    "# We will keep these records in the datafram and we can see who they are:\n",
    "print('Number of Age outliers are: ', df.loc[df.loc[:,'Age']>55 , 'Name'].count())"
   ]
  },
  {
   "cell_type": "code",
   "execution_count": 25,
   "id": "87ff07b3",
   "metadata": {},
   "outputs": [
    {
     "data": {
      "image/png": "[encoded data removed]",
      "text/plain": [
       "<Figure size 640x480 with 1 Axes>"
      ]
     },
     "metadata": {},
     "output_type": "display_data"
    },
    {
     "name": "stdout",
     "output_type": "stream",
     "text": [
      "             SibSp  Survived\n",
      "PassengerId                 \n",
      "8                3         0\n",
      "375              3         0\n",
      "25               3         0\n",
      "28               3         0\n",
      "820              3         0\n",
      "230              3         0\n",
      "64               3         0\n",
      "410              3         0\n",
      "727              3         1\n",
      "86               3         1\n",
      "89               3         1\n",
      "342              3         1\n",
      "643              3         0\n",
      "635              3         0\n",
      "486              3         0\n",
      "177              3         0\n",
      "687              4         0\n",
      "543              4         0\n",
      "788              4         0\n",
      "814              4         0\n",
      "825              4         0\n",
      "542              4         0\n",
      "279              4         0\n",
      "267              4         0\n",
      "172              4         0\n",
      "262              4         1\n",
      "234              4         1\n",
      "69               4         1\n",
      "120              4         0\n",
      "183              4         0\n",
      "17               4         0\n",
      "51               4         0\n",
      "165              4         0\n",
      "851              4         0\n",
      "72               5         0\n",
      "60               5         0\n",
      "481              5         0\n",
      "387              5         0\n",
      "684              5         0\n",
      "847              8         0\n",
      "325              8         0\n",
      "160              8         0\n",
      "181              8         0\n",
      "202              8         0\n",
      "793              8         0\n",
      "864              8         0\n"
     ]
    }
   ],
   "source": [
    "#SibSp is the number of siblings and spouse that the passenger had on the titanic.  \n",
    "sns.boxplot(y=df['SibSp'])\n",
    "plt.show()\n",
    "\n",
    "SibSpSurvivors = df.loc[df.loc[:,'SibSp']>2 , ['SibSp','Survived']]\n",
    "Sorted_SibSpSurvivors = SibSpSurvivors.sort_values('SibSp')\n",
    "print(Sorted_SibSpSurvivors)"
   ]
  },
  {
   "cell_type": "markdown",
   "id": "5a5d9833",
   "metadata": {},
   "source": [
    "We see that most passengers had either 1 or 0 siblings or spouses.  One big outlier here is a family of 8 none of whom survived.  \n",
    "\n",
    "Next we can look at the Parch column that states the number of Parents or Children on board.  This will be very similar to the SibSp column"
   ]
  },
  {
   "cell_type": "code",
   "execution_count": 26,
   "id": "72ac1cb4",
   "metadata": {},
   "outputs": [
    {
     "data": {
      "image/png": "[encoded data removed]",
      "text/plain": [
       "<Figure size 640x480 with 1 Axes>"
      ]
     },
     "metadata": {},
     "output_type": "display_data"
    }
   ],
   "source": [
    "#SibSp is the number of siblings and spouse that the passenger had on the titanic.  \n",
    "sns.boxplot(y=df.loc[:,'Parch'])\n",
    "plt.show()"
   ]
  },
  {
   "cell_type": "markdown",
   "id": "a507e544",
   "metadata": {},
   "source": [
    "Here the boxplot outlines that most passengers has Parch values of 0.  "
   ]
  },
  {
   "cell_type": "code",
   "execution_count": 27,
   "id": "393e56a6",
   "metadata": {},
   "outputs": [
    {
     "data": {
      "image/png": "[encoded data removed]",
      "text/plain": [
       "<Figure size 640x480 with 1 Axes>"
      ]
     },
     "metadata": {},
     "output_type": "display_data"
    }
   ],
   "source": [
    "sns.boxplot(y=df.loc[:,'Fare'])\n",
    "plt.show()"
   ]
  },
  {
   "cell_type": "markdown",
   "id": "5a86f272",
   "metadata": {},
   "source": [
    "This boxplot is interesting.  It characterizes outlier fare as higher than $62.  However, many passengers paid much more, probably for higher class lodging.  Let's see the range of values grouped by class\n",
    "\n",
    "The boxplots below show that most of the largest outliers in fare came from First Class, which is expected.  "
   ]
  },
  {
   "cell_type": "code",
   "execution_count": 28,
   "id": "d6dd0c34",
   "metadata": {},
   "outputs": [
    {
     "data": {
      "image/png": "[encoded data removed]",
      "text/plain": [
       "<Figure size 640x480 with 3 Axes>"
      ]
     },
     "metadata": {},
     "output_type": "display_data"
    }
   ],
   "source": [
    "fig, axes = plt.subplots(nrows=1,ncols=3)\n",
    "axes[0].boxplot(df.loc[df.loc[:,'Pclass']==1 , 'Fare'])\n",
    "axes[1].boxplot(df.loc[df.loc[:,'Pclass']==2 , 'Fare'])\n",
    "axes[2].boxplot(df.loc[df.loc[:,'Pclass']==3 , 'Fare'])\n",
    "axes[0].set_title('First Class')\n",
    "axes[1].set_title('Second Class')\n",
    "axes[2].set_title('Third Class')\n",
    "plt.show()"
   ]
  },
  {
   "cell_type": "markdown",
   "id": "6ebeefb6",
   "metadata": {},
   "source": [
    "### Part 3: Exploratory Data Analysis\n",
    "Let's dive a little deeper before heading to model building to see if certain factors were better for survival\n",
    "\n",
    "We learned from the Titanic movie (though fiction) that women and children were allowed on life boats first.  Does the data confirm this?"
   ]
  },
  {
   "cell_type": "code",
   "execution_count": 29,
   "id": "c6238be1",
   "metadata": {},
   "outputs": [
    {
     "name": "stdout",
     "output_type": "stream",
     "text": [
      "25.821064552661383 12.231030577576444\n"
     ]
    }
   ],
   "source": [
    "totalPassengers = df.shape[0]\n",
    "\n",
    "WomenSurvived = df.loc[(df.loc[:,'Survived']==1) & (df.loc[:,'Sex']=='female') , 'Name'].count()\n",
    "MenSurvived = df.loc[(df.loc[:,'Survived']==1) & (df.loc[:,'Sex']=='male') , 'Name'].count() \n",
    "\n",
    "PcntWomenSurvived = 100 * WomenSurvived / totalPassengers\n",
    "PcntMenSurvived = 100 * MenSurvived / totalPassengers\n",
    "\n",
    "print(PcntWomenSurvived, PcntMenSurvived)"
   ]
  },
  {
   "cell_type": "markdown",
   "id": "86bde1e1",
   "metadata": {},
   "source": [
    "***Curiosity Points (5 Points)***\n",
    "Using the ***groupby*** function, recreate the analysis above on percent of passengers survived based on their sex.  \n",
    "\n",
    "If you're stuck and want to see one possible solution, run the code below.  Remove the '#' and then run"
   ]
  },
  {
   "cell_type": "code",
   "execution_count": 30,
   "id": "dd4fccc2",
   "metadata": {},
   "outputs": [],
   "source": [
    "# M3L2_2()"
   ]
  },
  {
   "cell_type": "markdown",
   "id": "0575a3d7",
   "metadata": {},
   "source": [
    "***Curiosity Points (5 Points)***\n",
    "Using the ***groupby*** function, what percentage of each class survived and was that a significant distinguisher for survival?\n",
    "\n",
    "If you're stuck and want to see one possible solution, run the code below.  Remove the '#' and then run"
   ]
  },
  {
   "cell_type": "code",
   "execution_count": 31,
   "id": "fd19e7f9",
   "metadata": {},
   "outputs": [],
   "source": [
    "# M3L2_3()"
   ]
  },
  {
   "cell_type": "markdown",
   "id": "05f5774d",
   "metadata": {},
   "source": [
    "Let's look at histograms of age of those that survived to see if younger passengers were more likely to survive.  "
   ]
  },
  {
   "cell_type": "code",
   "execution_count": 32,
   "id": "21270c62",
   "metadata": {},
   "outputs": [
    {
     "data": {
      "image/png": "[encoded data removed]",
      "text/plain": [
       "<Figure size 1500x400 with 1 Axes>"
      ]
     },
     "metadata": {},
     "output_type": "display_data"
    }
   ],
   "source": [
    "AgeSurvived = df.loc[df.loc[:,'Survived']==1 , 'Age']\n",
    "AgeNotSurvived = df.loc[df.loc[:,'Survived']==0 , 'Age']\n",
    "\n",
    "fig, axes = plt.subplots(figsize=(15,4))\n",
    "sns.histplot(x=df.loc[:,'Age'],hue=df.loc[:,'Survived'], kde=True, bins=20)\n",
    "\n",
    "plt.show()"
   ]
  },
  {
   "cell_type": "code",
   "execution_count": 33,
   "id": "07290aef",
   "metadata": {},
   "outputs": [
    {
     "name": "stdout",
     "output_type": "stream",
     "text": [
      "[ 0.42     5.39375 10.3675  15.34125 20.315   25.28875 30.2625  35.23625\n",
      " 40.21    45.18375 50.1575  55.13125 60.105   65.07875 70.0525  75.02625\n",
      " 80.     ]\n",
      "[68.08510638 35.         61.11111111 38.0952381  46.66666667 44.44444444\n",
      " 26.19047619 36.98630137 33.33333333 41.02564103 30.3030303  37.5\n",
      " 23.07692308  0.          0.         14.28571429]\n"
     ]
    }
   ],
   "source": [
    "\n",
    "survivedCounts, binEdges = np.histogram(AgeSurvived,bins=16)\n",
    "notSurvivedCounts, binEdges2 = np.histogram(AgeNotSurvived,bins=16)\n",
    "print(binEdges)\n",
    "\n",
    "pcntCounts = survivedCounts/(survivedCounts+notSurvivedCounts)*100\n",
    "print(pcntCounts)"
   ]
  },
  {
   "cell_type": "code",
   "execution_count": 34,
   "id": "d0295b36",
   "metadata": {},
   "outputs": [
    {
     "data": {
      "image/png": "[encoded data removed]",
      "text/plain": [
       "<Figure size 640x480 with 1 Axes>"
      ]
     },
     "metadata": {},
     "output_type": "display_data"
    }
   ],
   "source": [
    "fig, ax = plt.subplots()\n",
    "ax.stem(binEdges[1:], pcntCounts)\n",
    "ax.set_title('Survival Rate Per Age Group')\n",
    "ax.set_xlabel('Age')\n",
    "ax.set_ylabel('Survival Rate')\n",
    "plt.show()"
   ]
  },
  {
   "cell_type": "markdown",
   "id": "86312f7f",
   "metadata": {},
   "source": [
    "We see from this chart that a higher percentage of younger passengers survived the titanic.  "
   ]
  },
  {
   "cell_type": "markdown",
   "id": "be35f369",
   "metadata": {},
   "source": [
    "***Curiosity Points (5 Points)*** Check out different notebooks on Kaggle.com to see how other data scientists have explored this data.  \n",
    "\n",
    "Full list is here: https://www.kaggle.com/competitions/titanic/code?competitionId=3136&sortBy=voteCount\n",
    "\n",
    "One good example is here: https://www.kaggle.com/code/ash316/eda-to-prediction-dietanic"
   ]
  },
  {
   "cell_type": "markdown",
   "id": "06b181f9",
   "metadata": {},
   "source": [
    "### Save cleaned dataset"
   ]
  },
  {
   "cell_type": "code",
   "execution_count": 35,
   "id": "596d7a16",
   "metadata": {},
   "outputs": [],
   "source": [
    "df.to_csv('titanic_train_cleaned.csv')\n",
    "median_age.to_csv('median_age.csv')"
   ]
  },
  {
   "cell_type": "markdown",
   "id": "219a8a4e",
   "metadata": {},
   "source": [
    "### Repeat for titanic_test.csv\n",
    "Go back to the top of the dataset"
   ]
  }
 ],
 "metadata": {
  "kernelspec": {
   "display_name": "Python 3 (ipykernel)",
   "language": "python",
   "name": "python3"
  },
  "language_info": {
   "codemirror_mode": {
    "name": "ipython",
    "version": 3
   },
   "file_extension": ".py",
   "mimetype": "text/x-python",
   "name": "python",
   "nbconvert_exporter": "python",
   "pygments_lexer": "ipython3",
   "version": "3.9.13"
  }
 },
 "nbformat": 4,
 "nbformat_minor": 5
}
