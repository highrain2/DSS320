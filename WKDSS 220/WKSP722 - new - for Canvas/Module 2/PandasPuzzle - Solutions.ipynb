{
 "cells": [
  {
   "cell_type": "markdown",
   "id": "3db81c7d",
   "metadata": {},
   "source": [
    "## Word Search\n",
    "\n",
    "Welcome to the Data Science Workflow word-search exercise.  Your task is to use iloc() or loc() functions to print each stage of the data science workflow, presented below without spaces:\n",
    "* ASKQUESTIONS\n",
    "* PREPAREANDPLAN\n",
    "* PROCESS\n",
    "* ANALYZE\n",
    "* SHAREANDACT"
   ]
  },
  {
   "cell_type": "code",
   "execution_count": 1,
   "id": "4fa04f84",
   "metadata": {},
   "outputs": [],
   "source": [
    "import pandas as pd"
   ]
  },
  {
   "cell_type": "code",
   "execution_count": 25,
   "id": "f3f03775",
   "metadata": {},
   "outputs": [
    {
     "name": "stdout",
     "output_type": "stream",
     "text": [
      "   C1 C2 C3 C4 C5 C6 C7 C8 C9 C10 C11 C12 C13 C14 C15\n",
      "0   B  B  Y  U  D  P  C  L  N   O   W   S   P   J   P\n",
      "1   V  E  S  H  A  R  E  A  N   D   A   C   T   S   A\n",
      "2   V  I  K  U  Z  S  S  U  H   F   O   I   H   L   N\n",
      "3   M  E  D  R  E  G  M  Q  P   B   S   A   H   K   A\n",
      "4   H  Z  Q  T  A  C  L  T  O   V   W   B   G   S   L\n",
      "5   K  Y  T  O  C  L  P  Z  B   T   N   L   H   G   Y\n",
      "6   P  R  E  P  A  R  E  A  N   D   P   L   A   N   Z\n",
      "7   U  G  F  E  Q  L  M  S  Y   D   B   A   R   C   E\n",
      "8   S  M  O  P  R  O  C  E  S   S   O   U   Q   X   B\n",
      "9   K  Q  M  S  Q  V  G  B  A   R   Z   Y   Q   W   H\n",
      "10  M  L  N  H  S  W  H  G  Z   Q   W   R   H   B   E\n",
      "11  W  F  M  A  S  K  Q  U  E   S   T   I   O   N   S\n",
      "12  V  A  D  I  S  R  H  P  H   L   Y   M   V   W   S\n",
      "13  L  P  W  L  A  S  Y  B  H   V   M   J   O   F   C\n",
      "14  R  J  O  K  X  F  P  R  D   X   D   R   J   I   T\n"
     ]
    }
   ],
   "source": [
    "df = pd.read_csv(\"PandasPuzzle.csv\")\n",
    "print(df)"
   ]
  },
  {
   "cell_type": "code",
   "execution_count": 42,
   "id": "e792b4d1",
   "metadata": {},
   "outputs": [],
   "source": [
    "# ASKQUESTIONS\n",
    "#print(df.iloc[11, 3:15])\n",
    "#print(df.loc[11,['C4','C5','C6','C7','C8','C9','C10','C11','C12','C13','C14','C15']])"
   ]
  },
  {
   "cell_type": "code",
   "execution_count": 34,
   "id": "8aac82ff",
   "metadata": {},
   "outputs": [],
   "source": [
    "# PREPAREANDPLAN\n",
    "#print(df.iloc[6,0:14])\n",
    "#print(df.loc[6,['C1','C2','C3','C4','C5','C6','C7','C8','C9','C10','C11','C12','C13','C14']])"
   ]
  },
  {
   "cell_type": "code",
   "execution_count": 38,
   "id": "0263b953",
   "metadata": {},
   "outputs": [],
   "source": [
    "# PROCESS\n",
    "#print(df.iloc[8,3:10])\n",
    "#print(df.loc[8,['C4','C5','C6','C7','C8','C9','C10']])"
   ]
  },
  {
   "cell_type": "code",
   "execution_count": 28,
   "id": "5016b370",
   "metadata": {},
   "outputs": [],
   "source": [
    "# ANALYZE\n",
    "#print(df.iloc[1:7,15])\n",
    "#print(df.loc[1:7,'C15'])"
   ]
  },
  {
   "cell_type": "code",
   "execution_count": 41,
   "id": "832b2456",
   "metadata": {},
   "outputs": [],
   "source": [
    "# SHAREANDACT\n",
    "#print(df.iloc[1,2:13])\n",
    "#print(df.loc[1,['C3','C4','C5','C6','C7','C8','C9','C10','C11','C12','C13']])"
   ]
  }
 ],
 "metadata": {
  "kernelspec": {
   "display_name": "Python 3 (ipykernel)",
   "language": "python",
   "name": "python3"
  },
  "language_info": {
   "codemirror_mode": {
    "name": "ipython",
    "version": 3
   },
   "file_extension": ".py",
   "mimetype": "text/x-python",
   "name": "python",
   "nbconvert_exporter": "python",
   "pygments_lexer": "ipython3",
   "version": "3.9.13"
  }
 },
 "nbformat": 4,
 "nbformat_minor": 5
}
