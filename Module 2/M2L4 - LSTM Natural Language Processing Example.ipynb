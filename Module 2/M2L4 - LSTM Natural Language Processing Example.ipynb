{
 "cells": [
  {
   "cell_type": "markdown",
   "id": "7d583d3d",
   "metadata": {},
   "source": [
    "# LSTM Example\n",
    "This notebook will go through an example of processing SMS text messages and determining if they are spam or not spam.  \n",
    "\n",
    "We will do quite a bit of pre-processing, which I will briefly cover.  Further information in this topic can be found in subsequent courses or in the associated reference links.  \n",
    "\n",
    "The main purpose of this notebook is to show how to use LSTMs on a deep neural network with text data."
   ]
  },
  {
   "cell_type": "markdown",
   "id": "368029fd",
   "metadata": {},
   "source": [
    "### Dataset\n",
    "The dataset can be found on this website: https://archive.ics.uci.edu/dataset/228/sms+spam+collection.  It consists of 425 spam messages and 3375 non-spam (\"ham\") messages.  "
   ]
  },
  {
   "cell_type": "code",
   "execution_count": 1,
   "id": "53ecf1a3",
   "metadata": {},
   "outputs": [],
   "source": [
    "import pandas as pd\n",
    "import numpy as np\n",
    "import matplotlib.pyplot as plt\n",
    "import seaborn as sns\n",
    "from sklearn import datasets\n",
    "\n",
    "# Workshop Functions\n",
    "import sys\n",
    "sys.path.append('..')\n",
    "from WKDSS320_functions import * \n",
    "\n",
    "np.random.seed(1)"
   ]
  },
  {
   "cell_type": "code",
   "execution_count": 2,
   "id": "e486ce33",
   "metadata": {},
   "outputs": [
    {
     "name": "stdout",
     "output_type": "stream",
     "text": [
      "spam \n",
      " FreeMsg Hey there darling it's been 3 week's now and no word back! I'd like some fun you up for it still? Tb ok! XxX std chgs to send, £1.50 to rcv\n"
     ]
    }
   ],
   "source": [
    "rawInput = pd.read_csv('SMSSpamCollection', sep='\\t', names=['label','message'])\n",
    "print(rawInput.loc[5,'label'], '\\n', rawInput.loc[5,'message'])"
   ]
  },
  {
   "cell_type": "code",
   "execution_count": 3,
   "id": "3384c0da",
   "metadata": {},
   "outputs": [],
   "source": [
    "df = pd.read_csv('SMSSpamCollection_clean.csv')"
   ]
  },
  {
   "cell_type": "code",
   "execution_count": 4,
   "id": "44b6ba0f",
   "metadata": {},
   "outputs": [
    {
     "data": {
      "text/plain": [
       "\"['FreeMsg', 'Hey', 'darling', '3', 'weeks', 'word', 'back', 'Id', 'like', 'fun', 'still', 'Tb', 'ok', 'XxX', 'std', 'chgs', 'send', '£150', 'rcv']\""
      ]
     },
     "execution_count": 4,
     "metadata": {},
     "output_type": "execute_result"
    }
   ],
   "source": [
    "df.loc[5,'message']"
   ]
  },
  {
   "cell_type": "code",
   "execution_count": 5,
   "id": "3c135ed8",
   "metadata": {},
   "outputs": [
    {
     "data": {
      "text/plain": [
       "\"['love', 'start', 'attractioni', 'feel', 'need', 'every', 'time', 'around', 'meshe', 'first', 'thing', 'comes', 'thoughtsI', 'would', 'start', 'day', 'end', 'hershe', 'every', 'time', 'dreamlove', 'every', 'breath', 'namemy', 'life', 'happen', 'around', 'hermy', 'life', 'named', 'herI', 'would', 'cry', 'herwill', 'give', 'happiness', 'take', 'sorrowsI', 'ready', 'fight', 'anyone', 'herI', 'love', 'craziest', 'things', 'herlove', 'dont', 'proove', 'anyone', 'girl', 'beautiful', 'lady', 'whole', 'planetI', 'always', 'singing', 'praises', 'herlove', 'start', 'making', 'chicken', 'curry', 'end', 'makiing', 'sambarlife', 'beautiful', 'thenwill', 'get', 'every', 'morning', 'thank', 'god', 'day', 'meI', 'would', 'like', 'say', 'lotwill', 'tell', 'later']\""
      ]
     },
     "execution_count": 5,
     "metadata": {},
     "output_type": "execute_result"
    }
   ],
   "source": [
    "#most texts short, but this one was really long\n",
    "df.loc[1085,'message']"
   ]
  },
  {
   "cell_type": "code",
   "execution_count": 6,
   "id": "6173ed09",
   "metadata": {},
   "outputs": [
    {
     "data": {
      "text/html": [
       "<div>\n",
       "<style scoped>\n",
       "    .dataframe tbody tr th:only-of-type {\n",
       "        vertical-align: middle;\n",
       "    }\n",
       "\n",
       "    .dataframe tbody tr th {\n",
       "        vertical-align: top;\n",
       "    }\n",
       "\n",
       "    .dataframe thead th {\n",
       "        text-align: right;\n",
       "    }\n",
       "</style>\n",
       "<table border=\"1\" class=\"dataframe\">\n",
       "  <thead>\n",
       "    <tr style=\"text-align: right;\">\n",
       "      <th></th>\n",
       "      <th>Unnamed: 0</th>\n",
       "      <th>label</th>\n",
       "      <th>message</th>\n",
       "      <th>length</th>\n",
       "    </tr>\n",
       "  </thead>\n",
       "  <tbody>\n",
       "    <tr>\n",
       "      <th>0</th>\n",
       "      <td>0</td>\n",
       "      <td>ham</td>\n",
       "      <td>['Go', 'jurong', 'point', 'crazy', 'Available'...</td>\n",
       "      <td>111</td>\n",
       "    </tr>\n",
       "    <tr>\n",
       "      <th>1</th>\n",
       "      <td>1</td>\n",
       "      <td>ham</td>\n",
       "      <td>['Ok', 'lar', 'Joking', 'wif', 'u', 'oni']</td>\n",
       "      <td>29</td>\n",
       "    </tr>\n",
       "    <tr>\n",
       "      <th>2</th>\n",
       "      <td>2</td>\n",
       "      <td>spam</td>\n",
       "      <td>['Free', 'entry', '2', 'wkly', 'comp', 'win', ...</td>\n",
       "      <td>155</td>\n",
       "    </tr>\n",
       "    <tr>\n",
       "      <th>3</th>\n",
       "      <td>3</td>\n",
       "      <td>ham</td>\n",
       "      <td>['U', 'dun', 'say', 'early', 'hor', 'U', 'c', ...</td>\n",
       "      <td>49</td>\n",
       "    </tr>\n",
       "    <tr>\n",
       "      <th>4</th>\n",
       "      <td>4</td>\n",
       "      <td>ham</td>\n",
       "      <td>['Nah', 'dont', 'think', 'goes', 'usf', 'lives...</td>\n",
       "      <td>61</td>\n",
       "    </tr>\n",
       "  </tbody>\n",
       "</table>\n",
       "</div>"
      ],
      "text/plain": [
       "   Unnamed: 0 label                                            message  length\n",
       "0           0   ham  ['Go', 'jurong', 'point', 'crazy', 'Available'...     111\n",
       "1           1   ham         ['Ok', 'lar', 'Joking', 'wif', 'u', 'oni']      29\n",
       "2           2  spam  ['Free', 'entry', '2', 'wkly', 'comp', 'win', ...     155\n",
       "3           3   ham  ['U', 'dun', 'say', 'early', 'hor', 'U', 'c', ...      49\n",
       "4           4   ham  ['Nah', 'dont', 'think', 'goes', 'usf', 'lives...      61"
      ]
     },
     "execution_count": 6,
     "metadata": {},
     "output_type": "execute_result"
    }
   ],
   "source": [
    "df.head()"
   ]
  },
  {
   "cell_type": "markdown",
   "id": "ed647686",
   "metadata": {},
   "source": [
    "### Tokenize input words and use result in LSTM NN\n",
    "\n",
    "Sources:\n",
    "\n",
    "https://towardsdatascience.com/understanding-lstm-and-its-quick-implementation-in-keras-for-sentiment-analysis-af410fd85b47\n",
    "and \n",
    "https://towardsdatascience.com/an-easy-tutorial-about-sentiment-analysis-with-deep-learning-and-keras-2bf52b9cba91"
   ]
  },
  {
   "cell_type": "code",
   "execution_count": 7,
   "id": "013fe43f",
   "metadata": {},
   "outputs": [
    {
     "data": {
      "text/plain": [
       "(5572, 100)"
      ]
     },
     "execution_count": 7,
     "metadata": {},
     "output_type": "execute_result"
    }
   ],
   "source": [
    "from keras.preprocessing.text import Tokenizer\n",
    "from keras.utils import pad_sequences\n",
    "\n",
    "#max_words = 5000\n",
    "#max_len = 100\n",
    "\n",
    "tokenizer = Tokenizer(num_words=5000)\n",
    "tokenizer.fit_on_texts(df['message'])\n",
    "sequences = tokenizer.texts_to_sequences(df['message'])\n",
    "texts = pad_sequences(sequences, maxlen=100)\n",
    "texts.shape"
   ]
  },
  {
   "cell_type": "code",
   "execution_count": 18,
   "id": "c4719893",
   "metadata": {},
   "outputs": [
    {
     "data": {
      "text/plain": [
       "array([   0,    0,    0,    0,    0,    0,    0,    0,    0,    0,    0,\n",
       "          0,    0,    0,    0,    0,    0,    0,    0,    0,    0,    0,\n",
       "          0,    0,    0,    0,    0,    0,    0,    0,    0,    0,    0,\n",
       "          0,    0,    0,    0,    0,    0,    0,    0,    0,    0,    0,\n",
       "          0,    0,    0,    0,    0,    0,    0,    0,    0,    0,    0,\n",
       "          0,    0,    0,    0,    0,    0,    0,    0,    0,    0,    0,\n",
       "          0,    0,    0,    0,    0,    0,    0,    0,    0,    0,    0,\n",
       "          0,    0,    0,    0,  740,   59, 1484,  115,  490,  251,   36,\n",
       "        273,   14,  286,   34, 1733,   10,  252,  931, 4277,   23,  343,\n",
       "       2794])"
      ]
     },
     "execution_count": 18,
     "metadata": {},
     "output_type": "execute_result"
    }
   ],
   "source": [
    "texts[5]"
   ]
  },
  {
   "cell_type": "code",
   "execution_count": 9,
   "id": "93fd21b3",
   "metadata": {},
   "outputs": [],
   "source": [
    "mapping = {'ham':0, 'spam':1}\n",
    "df.loc[:,'label'] = df.loc[:,'label'].map(mapping)"
   ]
  },
  {
   "cell_type": "code",
   "execution_count": 10,
   "id": "ccf1eadb",
   "metadata": {},
   "outputs": [
    {
     "data": {
      "text/plain": [
       "1    0\n",
       "2    1\n",
       "3    0\n",
       "4    0\n",
       "5    1\n",
       "Name: label, dtype: int64"
      ]
     },
     "execution_count": 10,
     "metadata": {},
     "output_type": "execute_result"
    }
   ],
   "source": [
    "df.loc[1:5,'label']"
   ]
  },
  {
   "cell_type": "code",
   "execution_count": 11,
   "id": "340edde5",
   "metadata": {},
   "outputs": [],
   "source": [
    "from sklearn.model_selection import train_test_split\n",
    "X_train, X_test, y_train, y_test = train_test_split(texts, df.loc[:,'label'].values, test_size=0.3, random_state=1)"
   ]
  },
  {
   "cell_type": "code",
   "execution_count": 12,
   "id": "b8df7fc0",
   "metadata": {},
   "outputs": [
    {
     "data": {
      "text/plain": [
       "(3900, 100)"
      ]
     },
     "execution_count": 12,
     "metadata": {},
     "output_type": "execute_result"
    }
   ],
   "source": [
    "X_train.shape"
   ]
  },
  {
   "cell_type": "code",
   "execution_count": 13,
   "id": "916fe7b4",
   "metadata": {},
   "outputs": [],
   "source": [
    "from keras.models import Sequential\n",
    "from keras.layers import Embedding, Dense, LSTM"
   ]
  },
  {
   "cell_type": "code",
   "execution_count": 14,
   "id": "f38b01f3",
   "metadata": {},
   "outputs": [],
   "source": [
    "model = Sequential()\n",
    "model.add(Embedding(input_dim=5000, output_dim=10, input_length=100)) #The embedding layer\n",
    "model.add(LSTM(3,dropout=0.5)) # More LSTM layers lead to overfitting\n",
    "model.add(Dense(1,activation='sigmoid'))"
   ]
  },
  {
   "cell_type": "code",
   "execution_count": 15,
   "id": "7c059b95",
   "metadata": {},
   "outputs": [
    {
     "name": "stdout",
     "output_type": "stream",
     "text": [
      "Epoch 1/25\n",
      "122/122 [==============================] - 12s 73ms/step - loss: 0.5142 - val_loss: 0.3257\n",
      "Epoch 2/25\n",
      "122/122 [==============================] - 8s 68ms/step - loss: 0.2442 - val_loss: 0.1942\n",
      "Epoch 3/25\n",
      "122/122 [==============================] - 8s 66ms/step - loss: 0.1530 - val_loss: 0.1381\n",
      "Epoch 4/25\n",
      "122/122 [==============================] - 8s 69ms/step - loss: 0.1096 - val_loss: 0.1073\n",
      "Epoch 5/25\n",
      "122/122 [==============================] - 8s 67ms/step - loss: 0.0859 - val_loss: 0.0877\n",
      "Epoch 6/25\n",
      "122/122 [==============================] - 8s 67ms/step - loss: 0.0667 - val_loss: 0.0760\n",
      "Epoch 7/25\n",
      "122/122 [==============================] - 8s 67ms/step - loss: 0.0525 - val_loss: 0.0678\n",
      "Epoch 8/25\n",
      "122/122 [==============================] - 8s 67ms/step - loss: 0.0428 - val_loss: 0.0652\n",
      "Epoch 9/25\n",
      "122/122 [==============================] - 8s 69ms/step - loss: 0.0347 - val_loss: 0.0588\n",
      "Epoch 10/25\n",
      "122/122 [==============================] - 8s 67ms/step - loss: 0.0300 - val_loss: 0.0585\n",
      "Epoch 11/25\n",
      "122/122 [==============================] - 9s 72ms/step - loss: 0.0269 - val_loss: 0.0558\n",
      "Epoch 12/25\n",
      "122/122 [==============================] - 8s 67ms/step - loss: 0.0229 - val_loss: 0.0517\n",
      "Epoch 13/25\n",
      "122/122 [==============================] - 8s 67ms/step - loss: 0.0192 - val_loss: 0.0502\n",
      "Epoch 14/25\n",
      "122/122 [==============================] - 8s 68ms/step - loss: 0.0166 - val_loss: 0.0553\n",
      "Epoch 15/25\n",
      "122/122 [==============================] - 8s 70ms/step - loss: 0.0166 - val_loss: 0.0527\n",
      "Epoch 16/25\n",
      "122/122 [==============================] - 8s 68ms/step - loss: 0.0158 - val_loss: 0.0542\n",
      "Epoch 17/25\n",
      "122/122 [==============================] - 8s 68ms/step - loss: 0.0116 - val_loss: 0.0562\n",
      "Epoch 18/25\n",
      "122/122 [==============================] - 8s 67ms/step - loss: 0.0106 - val_loss: 0.0533\n",
      "Epoch 19/25\n",
      "122/122 [==============================] - 8s 69ms/step - loss: 0.0114 - val_loss: 0.0557\n",
      "Epoch 20/25\n",
      "122/122 [==============================] - 9s 70ms/step - loss: 0.0085 - val_loss: 0.0579\n",
      "Epoch 21/25\n",
      "122/122 [==============================] - 9s 71ms/step - loss: 0.0096 - val_loss: 0.0561\n",
      "Epoch 22/25\n",
      "122/122 [==============================] - 8s 67ms/step - loss: 0.0070 - val_loss: 0.0595\n",
      "Epoch 23/25\n",
      "122/122 [==============================] - 9s 70ms/step - loss: 0.0081 - val_loss: 0.0579\n",
      "Epoch 24/25\n",
      "122/122 [==============================] - 8s 67ms/step - loss: 0.0070 - val_loss: 0.0615\n",
      "Epoch 25/25\n",
      "122/122 [==============================] - 8s 70ms/step - loss: 0.0068 - val_loss: 0.0642\n"
     ]
    },
    {
     "data": {
      "text/plain": [
       "<keras.callbacks.History at 0x23c6089b730>"
      ]
     },
     "execution_count": 15,
     "metadata": {},
     "output_type": "execute_result"
    }
   ],
   "source": [
    "model.compile(optimizer='adam',loss='binary_crossentropy') \n",
    "model.fit(x = X_train, y = y_train, epochs=25,validation_data=(X_test, y_test))"
   ]
  },
  {
   "cell_type": "code",
   "execution_count": 16,
   "id": "423ff340",
   "metadata": {},
   "outputs": [
    {
     "data": {
      "text/plain": [
       "<AxesSubplot:>"
      ]
     },
     "execution_count": 16,
     "metadata": {},
     "output_type": "execute_result"
    },
    {
     "data": {
      "image/png": "[encoded data removed]",
      "text/plain": [
       "<Figure size 640x480 with 1 Axes>"
      ]
     },
     "metadata": {},
     "output_type": "display_data"
    }
   ],
   "source": [
    "losses = pd.DataFrame(model.history.history)\n",
    "losses.plot()"
   ]
  },
  {
   "cell_type": "code",
   "execution_count": null,
   "id": "2c57dd66",
   "metadata": {},
   "outputs": [],
   "source": []
  }
 ],
 "metadata": {
  "kernelspec": {
   "display_name": "Python 3 (ipykernel)",
   "language": "python",
   "name": "python3"
  },
  "language_info": {
   "codemirror_mode": {
    "name": "ipython",
    "version": 3
   },
   "file_extension": ".py",
   "mimetype": "text/x-python",
   "name": "python",
   "nbconvert_exporter": "python",
   "pygments_lexer": "ipython3",
   "version": "3.9.13"
  }
 },
 "nbformat": 4,
 "nbformat_minor": 5
}
